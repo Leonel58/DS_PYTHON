{
 "cells": [
  {
   "cell_type": "markdown",
   "id": "53b0391d",
   "metadata": {},
   "source": [
    "# OPERACIONES ARITMÉTICAS BÁSICAS\n",
    "\n",
    "#### OPERACIONES"
   ]
  },
  {
   "cell_type": "code",
   "execution_count": 27,
   "id": "9d20b4da",
   "metadata": {},
   "outputs": [
    {
     "data": {
      "text/plain": [
       "445"
      ]
     },
     "execution_count": 27,
     "metadata": {},
     "output_type": "execute_result"
    }
   ],
   "source": [
    "# \n",
    "56+55\n",
    "\n",
    "58-58\n",
    "\n",
    "89*5\n",
    "\n",
    "\n"
   ]
  },
  {
   "cell_type": "code",
   "execution_count": 28,
   "id": "7f7d1a91",
   "metadata": {},
   "outputs": [
    {
     "name": "stdout",
     "output_type": "stream",
     "text": [
      "-7\n",
      "45\n",
      "37\n",
      "13\n",
      "46\n"
     ]
    }
   ],
   "source": [
    "print (1-8)\n",
    "print(5*9)\n",
    "print(45-8)\n",
    "print(5+8)\n",
    "print(54-8)"
   ]
  },
  {
   "cell_type": "code",
   "execution_count": 6,
   "id": "7f46c516",
   "metadata": {},
   "outputs": [
    {
     "name": "stdout",
     "output_type": "stream",
     "text": [
      "8.0\n",
      "10.0\n",
      "9.0\n",
      "5.0\n",
      "2.0\n",
      "150.0\n"
     ]
    }
   ],
   "source": [
    "print (80/10)\n",
    "print(50/5)\n",
    "print(90/10)\n",
    "print(20/4)\n",
    "print(800/400)\n",
    "print(600/4)"
   ]
  },
  {
   "cell_type": "code",
   "execution_count": 7,
   "id": "98c372cf",
   "metadata": {},
   "outputs": [
    {
     "name": "stdout",
     "output_type": "stream",
     "text": [
      "1\n",
      "1\n",
      "1\n",
      "2\n",
      "4\n",
      "0\n",
      "19\n",
      "10\n"
     ]
    }
   ],
   "source": [
    "# modulo\n",
    "\n",
    "print(7%2)\n",
    "\n",
    "print(7%3)\n",
    "\n",
    "\n",
    "print(5%4)\n",
    "\n",
    "print(26%3)\n",
    "\n",
    "print(89%5)\n",
    "\n",
    "print(56%7)\n",
    "print(6955%24)\n",
    "\n",
    "print(235%45)"
   ]
  },
  {
   "cell_type": "code",
   "execution_count": 25,
   "id": "e532c883",
   "metadata": {},
   "outputs": [
    {
     "name": "stdout",
     "output_type": "stream",
     "text": [
      "16807\n",
      "25\n",
      "81\n",
      "27\n",
      "2187\n",
      "5\n",
      "1953125\n",
      "37015056\n"
     ]
    }
   ],
   "source": [
    "print(7**5)\n",
    "\n",
    "print(5**2)\n",
    "\n",
    "print(9**2)\n",
    "\n",
    "print(3**3)\n",
    "\n",
    "print(3**7)\n",
    "\n",
    "print (5**1)\n",
    "\n",
    "print(5**9)\n",
    "\n",
    "print (78**4)"
   ]
  },
  {
   "cell_type": "code",
   "execution_count": 21,
   "id": "435e653b",
   "metadata": {},
   "outputs": [
    {
     "name": "stdout",
     "output_type": "stream",
     "text": [
      "4.5\n"
     ]
    },
    {
     "ename": "NameError",
     "evalue": "name 'math' is not defined",
     "output_type": "error",
     "traceback": [
      "\u001b[1;31m---------------------------------------------------------------------------\u001b[0m",
      "\u001b[1;31mNameError\u001b[0m                                 Traceback (most recent call last)",
      "\u001b[1;32m~\\AppData\\Local\\Temp/ipykernel_11704/3250710837.py\u001b[0m in \u001b[0;36m<module>\u001b[1;34m\u001b[0m\n\u001b[0;32m      1\u001b[0m \u001b[0mprint\u001b[0m\u001b[1;33m(\u001b[0m\u001b[1;36m9\u001b[0m\u001b[1;33m**\u001b[0m\u001b[1;36m1\u001b[0m\u001b[1;33m/\u001b[0m\u001b[1;36m2\u001b[0m\u001b[1;33m)\u001b[0m\u001b[1;33m\u001b[0m\u001b[1;33m\u001b[0m\u001b[0m\n\u001b[0;32m      2\u001b[0m \u001b[1;33m\u001b[0m\u001b[0m\n\u001b[1;32m----> 3\u001b[1;33m \u001b[0mprint\u001b[0m\u001b[1;33m(\u001b[0m\u001b[0mmath\u001b[0m\u001b[1;33m.\u001b[0m\u001b[0msqrt\u001b[0m\u001b[1;33m(\u001b[0m\u001b[1;36m9\u001b[0m\u001b[1;33m)\u001b[0m\u001b[1;33m)\u001b[0m\u001b[1;33m\u001b[0m\u001b[1;33m\u001b[0m\u001b[0m\n\u001b[0m\u001b[0;32m      4\u001b[0m \u001b[1;33m\u001b[0m\u001b[0m\n\u001b[0;32m      5\u001b[0m \u001b[0mprint\u001b[0m \u001b[1;33m(\u001b[0m\u001b[0mmath\u001b[0m\u001b[1;33m.\u001b[0m\u001b[0msqrt\u001b[0m\u001b[1;33m(\u001b[0m\u001b[1;36m25\u001b[0m\u001b[1;33m)\u001b[0m\u001b[1;33m)\u001b[0m\u001b[1;33m\u001b[0m\u001b[1;33m\u001b[0m\u001b[0m\n",
      "\u001b[1;31mNameError\u001b[0m: name 'math' is not defined"
     ]
    }
   ],
   "source": [
    "print(9**1/2)\n",
    "\n",
    "print(math.sqrt(9))\n",
    "\n",
    "print (math.sqrt(25))\n",
    "\n",
    "print(math.sqrt(275))\n",
    "\n",
    "print(math.sqrt(196))\n",
    "\n",
    "print(math.sqrt(400))\n",
    "\n",
    "print(math.sqrt(256))\n",
    "\n",
    "print(math.sqrt (756))\n",
    "\n",
    "print(math.sqrt(1257))\n",
    "\n",
    "\n",
    "import math"
   ]
  },
  {
   "cell_type": "code",
   "execution_count": 33,
   "id": "172d09e1",
   "metadata": {},
   "outputs": [
    {
     "name": "stdout",
     "output_type": "stream",
     "text": [
      "4.5\n"
     ]
    },
    {
     "ename": "NameError",
     "evalue": "name 'math' is not defined",
     "output_type": "error",
     "traceback": [
      "\u001b[1;31m---------------------------------------------------------------------------\u001b[0m",
      "\u001b[1;31mNameError\u001b[0m                                 Traceback (most recent call last)",
      "\u001b[1;32m~\\AppData\\Local\\Temp/ipykernel_11704/225416332.py\u001b[0m in \u001b[0;36m<module>\u001b[1;34m\u001b[0m\n\u001b[0;32m      1\u001b[0m \u001b[0mprint\u001b[0m\u001b[1;33m(\u001b[0m\u001b[1;36m9\u001b[0m\u001b[1;33m**\u001b[0m\u001b[1;36m1\u001b[0m\u001b[1;33m/\u001b[0m\u001b[1;36m2\u001b[0m\u001b[1;33m)\u001b[0m\u001b[1;33m\u001b[0m\u001b[1;33m\u001b[0m\u001b[0m\n\u001b[1;32m----> 2\u001b[1;33m \u001b[0mprint\u001b[0m\u001b[1;33m(\u001b[0m\u001b[0mmath\u001b[0m\u001b[1;33m.\u001b[0m\u001b[0msqrt\u001b[0m\u001b[1;33m(\u001b[0m\u001b[1;36m25\u001b[0m\u001b[1;33m)\u001b[0m\u001b[1;33m)\u001b[0m\u001b[1;33m\u001b[0m\u001b[1;33m\u001b[0m\u001b[0m\n\u001b[0m\u001b[0;32m      3\u001b[0m \u001b[1;32mimport\u001b[0m \u001b[0mmath\u001b[0m\u001b[1;33m\u001b[0m\u001b[1;33m\u001b[0m\u001b[0m\n",
      "\u001b[1;31mNameError\u001b[0m: name 'math' is not defined"
     ]
    }
   ],
   "source": [
    "print(9**1/2)\n",
    "print(math.sqrt(25))\n",
    "import math"
   ]
  },
  {
   "cell_type": "code",
   "execution_count": 30,
   "id": "dfc794c8",
   "metadata": {},
   "outputs": [
    {
     "ename": "NameError",
     "evalue": "name 'math' is not defined",
     "output_type": "error",
     "traceback": [
      "\u001b[1;31m---------------------------------------------------------------------------\u001b[0m",
      "\u001b[1;31mNameError\u001b[0m                                 Traceback (most recent call last)",
      "\u001b[1;32m~\\AppData\\Local\\Temp/ipykernel_11704/691285199.py\u001b[0m in \u001b[0;36m<module>\u001b[1;34m\u001b[0m\n\u001b[1;32m----> 1\u001b[1;33m \u001b[0mprint\u001b[0m\u001b[1;33m(\u001b[0m\u001b[0mmath\u001b[0m\u001b[1;33m.\u001b[0m\u001b[0msqrt\u001b[0m\u001b[1;33m(\u001b[0m\u001b[1;36m25\u001b[0m\u001b[1;33m)\u001b[0m\u001b[1;33m)\u001b[0m\u001b[1;33m\u001b[0m\u001b[1;33m\u001b[0m\u001b[0m\n\u001b[0m",
      "\u001b[1;31mNameError\u001b[0m: name 'math' is not defined"
     ]
    }
   ],
   "source": []
  },
  {
   "cell_type": "code",
   "execution_count": 34,
   "id": "0ceea71c",
   "metadata": {},
   "outputs": [
    {
     "data": {
      "text/plain": [
       "40"
      ]
     },
     "execution_count": 34,
     "metadata": {},
     "output_type": "execute_result"
    }
   ],
   "source": [
    "5*8"
   ]
  },
  {
   "cell_type": "code",
   "execution_count": 40,
   "id": "c7f51dd4",
   "metadata": {},
   "outputs": [
    {
     "name": "stdout",
     "output_type": "stream",
     "text": [
      "5.0\n",
      "6.0\n",
      "8.246211251235321\n",
      "10.0\n"
     ]
    }
   ],
   "source": [
    "import math\n",
    "\n",
    "8**2\n",
    "\n",
    "print(math.sqrt(25))\n",
    "\n",
    "print(math.sqrt(36))\n",
    "\n",
    "print(math.sqrt(68))\n",
    "\n",
    "print(100**(1/2))"
   ]
  },
  {
   "cell_type": "code",
   "execution_count": 64,
   "id": "1dfd363a",
   "metadata": {},
   "outputs": [
    {
     "name": "stdout",
     "output_type": "stream",
     "text": [
      "10.0\n",
      "14.142135623730951\n",
      "54.772255750516614\n",
      "38.72983346207417\n",
      "894.4271909999159\n",
      "3000.091165281482\n",
      "989.1698539684678\n"
     ]
    }
   ],
   "source": [
    "print(100**(1/2))\n",
    "\n",
    "print(200**(1/2))\n",
    "\n",
    "print(3000**(1/2))\n",
    "\n",
    "print(1500**(1/2))\n",
    "\n",
    "print(800000**(1/2))\n",
    "\n",
    "print(9000547**(1/2))\n",
    "\n",
    "print(978457**(1/2))"
   ]
  },
  {
   "cell_type": "code",
   "execution_count": 65,
   "id": "a22f38d1",
   "metadata": {},
   "outputs": [
    {
     "name": "stdout",
     "output_type": "stream",
     "text": [
      "3.0\n",
      "5.656854249492381\n",
      "9.433981132056603\n",
      "7.483314773547883\n",
      "28.089143810376278\n",
      "26.210684844162312\n",
      "7.0\n",
      "9.433981132056603\n",
      "9.0\n",
      "0.5773502691896257\n"
     ]
    }
   ],
   "source": [
    "print(math.sqrt(9))\n",
    "print(math.sqrt(32))\n",
    "\n",
    "print(math.sqrt(89))\n",
    "\n",
    "print(math.sqrt(56))\n",
    "\n",
    "print(math.sqrt(789))\n",
    "\n",
    "print(math.sqrt(687))\n",
    "\n",
    "print(math.sqrt(49))\n",
    "\n",
    "print(math.sqrt(89))\n",
    "\n",
    "print(math.sqrt(81))\n",
    "\n",
    "print(math.sqrt(1/3))"
   ]
  },
  {
   "cell_type": "code",
   "execution_count": 70,
   "id": "26d28211",
   "metadata": {},
   "outputs": [
    {
     "name": "stdout",
     "output_type": "stream",
     "text": [
      "12.359493211731285\n",
      "4.074859428749444\n",
      "2323032976383313941643043981637446620515854014795871362229073635532749715900533197864450479223307938266062223674321007337050602883698987663931384749\n",
      "448107026011109956561648155904742740584349341935785577968013128287751794753739507215193181054740124019248315113028461007311037460075757247949253245410327083031027593133257792522769045128648794202751284304289384213754460317938980254364716060537438849659851392239337199858025454800959114202817721960495396965307936533992809771261954162792776829277646704244419629388622283882004472234689156761297908934224647677816287258359376482042071068497916548747546781716550310228798603689055805069628360836203860622899667262669344363058338531115669133928534847831252211779493033825253572470081384975255028891803309185130690491205623852019041433493454202978934806414748956877338587103326557930612631946661137345438010372345326614324825893190661501191660739938025033663932517973848763192743993961807702573296574899799484294753906523915024392351124017433476460697504032421362887227841695953710348684602894642885852709135502892915963466419949458934180555743177876992885635847088788026920978374454374710059331965456885756291217456379405101740212165792267966657141604027863006448687376009332395807826948165148201219915306609570433535504330080568235427897585477864506194087950527126684254723109700411813325588897001901184775870466492475745280207816968646215325679163598906996361797126868974492258513596839129910939649621028200642771845618506706250549836181672541184969055744535981834603163420740918953417955582641389713787071309212879763170849193760031567918023960913590691990177144575604599802062707028954574801239052328552272269250846770333896728019699236787318920666140495254799342218801063203667844364482152964913004040373909865178142376447890961359694079232651203884706357612140891449006989611374890450944\n"
     ]
    }
   ],
   "source": [
    "print(1888**(1/3))\n",
    "\n",
    "print(4578**(1/6))\n",
    "\n",
    "print(784589**(25))\n",
    "\n",
    "print(48715478548**(158))\n",
    "\n",
    "\n"
   ]
  },
  {
   "cell_type": "code",
   "execution_count": 75,
   "id": "e49a2198",
   "metadata": {},
   "outputs": [
    {
     "name": "stdout",
     "output_type": "stream",
     "text": [
      "150\n",
      "480\n",
      "1\n",
      "588\n"
     ]
    }
   ],
   "source": [
    "#valor absoluto\n",
    "\n",
    "print(abs(-150))\n",
    "\n",
    "print(abs(480))\n",
    "\n",
    "print(abs(-1))\n",
    "\n",
    "print(abs(-588))\n"
   ]
  },
  {
   "cell_type": "markdown",
   "id": "5d015eaa",
   "metadata": {},
   "source": [
    "### redondeo"
   ]
  },
  {
   "cell_type": "code",
   "execution_count": 1,
   "id": "7da90a0f",
   "metadata": {},
   "outputs": [
    {
     "name": "stdout",
     "output_type": "stream",
     "text": [
      "11\n",
      "11\n",
      "10\n",
      "5\n",
      "5\n",
      "4\n",
      "4\n",
      "4\n",
      "5\n",
      "5\n"
     ]
    }
   ],
   "source": [
    "# redondeo clasico \n",
    "\n",
    "print(round(10.51))\n",
    "\n",
    "print(round(10.6))\n",
    "\n",
    "print(round(10.1))\n",
    "\n",
    "print(round(4.91))\n",
    "\n",
    "print(round(4.72))\n",
    "\n",
    "print(round(4.5))\n",
    "\n",
    "print(round(4.49))\n",
    "\n",
    "print(round(4.21))\n",
    "\n",
    "print(round(4.51))\n",
    "\n",
    "print(round(4.6))"
   ]
  },
  {
   "cell_type": "code",
   "execution_count": 2,
   "id": "2245e9f2",
   "metadata": {},
   "outputs": [
    {
     "ename": "NameError",
     "evalue": "name 'math' is not defined",
     "output_type": "error",
     "traceback": [
      "\u001b[1;31m---------------------------------------------------------------------------\u001b[0m",
      "\u001b[1;31mNameError\u001b[0m                                 Traceback (most recent call last)",
      "\u001b[1;32m~\\AppData\\Local\\Temp/ipykernel_2868/3217640573.py\u001b[0m in \u001b[0;36m<module>\u001b[1;34m\u001b[0m\n\u001b[1;32m----> 1\u001b[1;33m \u001b[0mmath\u001b[0m\u001b[1;33m.\u001b[0m\u001b[0mpi\u001b[0m\u001b[1;33m\u001b[0m\u001b[1;33m\u001b[0m\u001b[0m\n\u001b[0m",
      "\u001b[1;31mNameError\u001b[0m: name 'math' is not defined"
     ]
    }
   ],
   "source": [
    "math.pi                                                                             "
   ]
  },
  {
   "cell_type": "code",
   "execution_count": 5,
   "id": "9bd7f8cc",
   "metadata": {},
   "outputs": [
    {
     "data": {
      "text/plain": [
       "3.141592653589793"
      ]
     },
     "execution_count": 5,
     "metadata": {},
     "output_type": "execute_result"
    }
   ],
   "source": [
    "import math\n",
    "\n",
    "math.pi"
   ]
  },
  {
   "cell_type": "code",
   "execution_count": 9,
   "id": "569aa359",
   "metadata": {},
   "outputs": [
    {
     "name": "stdout",
     "output_type": "stream",
     "text": [
      "hola mundo\n",
      "hola mundo\n",
      "hola Benji\n"
     ]
    }
   ],
   "source": [
    "print(\"hola mundo\")\n",
    "\n",
    "print('hola mundo')\n",
    "\n",
    "nombre = \"Benji\"\n",
    "print(\"hola\", nombre)\n",
    "\n",
    "HOLA ME DICEN 0\n"
   ]
  },
  {
   "cell_type": "code",
   "execution_count": 41,
   "id": "8f172f7f",
   "metadata": {},
   "outputs": [
    {
     "ename": "SyntaxError",
     "evalue": "invalid syntax (Temp/ipykernel_2868/1485630698.py, line 25)",
     "output_type": "error",
     "traceback": [
      "\u001b[1;36m  File \u001b[1;32m\"C:\\Users\\WIN10\\AppData\\Local\\Temp/ipykernel_2868/1485630698.py\"\u001b[1;36m, line \u001b[1;32m25\u001b[0m\n\u001b[1;33m    MULTIPLICACION DE CADENAS\u001b[0m\n\u001b[1;37m                   ^\u001b[0m\n\u001b[1;31mSyntaxError\u001b[0m\u001b[1;31m:\u001b[0m invalid syntax\n"
     ]
    }
   ],
   "source": [
    "# TABULACION \n",
    "\n",
    "print(\"HOLA ME DICEN \\t'BENJI '\")\n",
    "\n",
    "print(\"HOLA ME DICEN \\n'BENJI' \")\n",
    "\n",
    "\n",
    "print(r\"HOLA ME DICEN \\n\\t'benji'\")\n",
    "\n",
    "print(\"\"\"hola\n",
    "estoy\n",
    "estudiando \n",
    "python\n",
    "en \n",
    "el \n",
    "irc\"\"\")\n",
    "\n",
    "# SUMA DE CADENAS \n",
    "\n",
    "C1 = \"HOLA \"\n",
    "C2 = \"MUNDO\"\n",
    "print(C1 , C2)\n",
    "\n",
    "\n",
    "MULTIPLICACION DE CADENAS \n",
    "\n",
    "C1 = \"ABC\"\n",
    "print(C1*3)\n",
    "\n",
    "\n",
    "\n",
    "\n",
    "\n",
    "\n"
   ]
  },
  {
   "cell_type": "code",
   "execution_count": 46,
   "id": "a08788fe",
   "metadata": {},
   "outputs": [
    {
     "name": "stdout",
     "output_type": "stream",
     "text": [
      "P\n",
      "M\n",
      "-\n",
      "E\n"
     ]
    },
    {
     "ename": "IndexError",
     "evalue": "string index out of range",
     "output_type": "error",
     "traceback": [
      "\u001b[1;31m---------------------------------------------------------------------------\u001b[0m",
      "\u001b[1;31mIndexError\u001b[0m                                Traceback (most recent call last)",
      "\u001b[1;32m~\\AppData\\Local\\Temp/ipykernel_2868/2872532591.py\u001b[0m in \u001b[0;36m<module>\u001b[1;34m\u001b[0m\n\u001b[0;32m     11\u001b[0m \u001b[0mprint\u001b[0m\u001b[1;33m(\u001b[0m\u001b[0mC1\u001b[0m\u001b[1;33m[\u001b[0m\u001b[1;36m4\u001b[0m\u001b[1;33m]\u001b[0m\u001b[1;33m)\u001b[0m\u001b[1;33m\u001b[0m\u001b[1;33m\u001b[0m\u001b[0m\n\u001b[0;32m     12\u001b[0m \u001b[0mprint\u001b[0m\u001b[1;33m(\u001b[0m\u001b[0mC1\u001b[0m\u001b[1;33m[\u001b[0m\u001b[1;36m6\u001b[0m\u001b[1;33m]\u001b[0m\u001b[1;33m)\u001b[0m\u001b[1;33m\u001b[0m\u001b[1;33m\u001b[0m\u001b[0m\n\u001b[1;32m---> 13\u001b[1;33m \u001b[0mprint\u001b[0m\u001b[1;33m(\u001b[0m\u001b[0mC1\u001b[0m\u001b[1;33m[\u001b[0m\u001b[1;36m9\u001b[0m\u001b[1;33m]\u001b[0m\u001b[1;33m)\u001b[0m\u001b[1;33m\u001b[0m\u001b[1;33m\u001b[0m\u001b[0m\n\u001b[0m\u001b[0;32m     14\u001b[0m \u001b[0mprint\u001b[0m\u001b[1;33m(\u001b[0m\u001b[0mC1\u001b[0m\u001b[1;33m[\u001b[0m\u001b[1;36m8\u001b[0m\u001b[1;33m]\u001b[0m\u001b[1;33m)\u001b[0m\u001b[1;33m\u001b[0m\u001b[1;33m\u001b[0m\u001b[0m\n",
      "\u001b[1;31mIndexError\u001b[0m: string index out of range"
     ]
    }
   ],
   "source": [
    "# indices de cadena\n",
    "\n",
    "#LIMA - PERU\n",
    "#(L)(I)(M)(A)(-)(P)(E)(R)(U)\n",
    "#(0)(1)(2)(3)(4)(5)(6)(7)(8)(9)\n",
    "\n",
    "C1 = \"LIMA-PERU\"\n",
    "\n",
    "\n"
   ]
  },
  {
   "cell_type": "code",
   "execution_count": 50,
   "id": "deb80d7b",
   "metadata": {},
   "outputs": [
    {
     "name": "stdout",
     "output_type": "stream",
     "text": [
      "P\n",
      "M\n",
      "-\n",
      "E\n"
     ]
    }
   ],
   "source": [
    "print(C1[5])\n",
    "print(C1[2])\n",
    "\n"
   ]
  },
  {
   "cell_type": "code",
   "execution_count": 63,
   "id": "c1c216ae",
   "metadata": {},
   "outputs": [
    {
     "name": "stdout",
     "output_type": "stream",
     "text": [
      "E\n",
      "-\n",
      "U\n",
      "R\n"
     ]
    }
   ],
   "source": [
    "print(C1[6])\n",
    "print(C1[4])\n",
    "print(C1[-1])\n",
    "print(C1[-2])"
   ]
  },
  {
   "cell_type": "code",
   "execution_count": 79,
   "id": "aa969b78",
   "metadata": {},
   "outputs": [
    {
     "name": "stdout",
     "output_type": "stream",
     "text": [
      "L\n",
      "P\n",
      "L\n",
      "R\n",
      "A\n",
      "LIMA-P\n",
      "A-PER\n",
      "MA-PERU\n"
     ]
    },
    {
     "ename": "NameError",
     "evalue": "name 'prnt' is not defined",
     "output_type": "error",
     "traceback": [
      "\u001b[1;31m---------------------------------------------------------------------------\u001b[0m",
      "\u001b[1;31mNameError\u001b[0m                                 Traceback (most recent call last)",
      "\u001b[1;32m~\\AppData\\Local\\Temp/ipykernel_2868/3026652700.py\u001b[0m in \u001b[0;36m<module>\u001b[1;34m\u001b[0m\n\u001b[0;32m      8\u001b[0m \u001b[0mprint\u001b[0m\u001b[1;33m(\u001b[0m\u001b[0mC1\u001b[0m\u001b[1;33m[\u001b[0m\u001b[1;36m3\u001b[0m\u001b[1;33m:\u001b[0m\u001b[1;36m8\u001b[0m\u001b[1;33m]\u001b[0m\u001b[1;33m)\u001b[0m\u001b[1;33m\u001b[0m\u001b[1;33m\u001b[0m\u001b[0m\n\u001b[0;32m      9\u001b[0m \u001b[0mprint\u001b[0m\u001b[1;33m(\u001b[0m\u001b[1;33m(\u001b[0m\u001b[0mC1\u001b[0m\u001b[1;33m[\u001b[0m\u001b[1;36m2\u001b[0m\u001b[1;33m:\u001b[0m\u001b[1;36m9\u001b[0m\u001b[1;33m]\u001b[0m\u001b[1;33m)\u001b[0m\u001b[1;33m)\u001b[0m\u001b[1;33m\u001b[0m\u001b[1;33m\u001b[0m\u001b[0m\n\u001b[1;32m---> 10\u001b[1;33m \u001b[0mprnt\u001b[0m\u001b[1;33m(\u001b[0m\u001b[1;33m(\u001b[0m\u001b[0mC1\u001b[0m\u001b[1;33m[\u001b[0m\u001b[1;36m8\u001b[0m\u001b[1;33m:\u001b[0m\u001b[1;36m9\u001b[0m\u001b[1;33m]\u001b[0m\u001b[1;33m)\u001b[0m\u001b[1;33m)\u001b[0m\u001b[1;33m\u001b[0m\u001b[1;33m\u001b[0m\u001b[0m\n\u001b[0m",
      "\u001b[1;31mNameError\u001b[0m: name 'prnt' is not defined"
     ]
    }
   ],
   "source": [
    "# SLICING DE CADENAS \n",
    "print(C1[0:1])\n",
    "print(C1[5])\n",
    "print(C1[-9])\n",
    "print(C1[-2])\n",
    "print(C1[-6])\n",
    "print(C1[0:6])\n",
    "print(C1[3:8])\n",
    "print((C1[2:9]))\n",
    "prnt((C1[8:9]))"
   ]
  },
  {
   "cell_type": "code",
   "execution_count": 87,
   "id": "1a4e6e6b",
   "metadata": {},
   "outputs": [
    {
     "ename": "IndentationError",
     "evalue": "unexpected indent (Temp/ipykernel_2868/1727013273.py, line 3)",
     "output_type": "error",
     "traceback": [
      "\u001b[1;36m  File \u001b[1;32m\"C:\\Users\\WIN10\\AppData\\Local\\Temp/ipykernel_2868/1727013273.py\"\u001b[1;36m, line \u001b[1;32m3\u001b[0m\n\u001b[1;33m    print(C1[2])\u001b[0m\n\u001b[1;37m    ^\u001b[0m\n\u001b[1;31mIndentationError\u001b[0m\u001b[1;31m:\u001b[0m unexpected indent\n"
     ]
    }
   ],
   "source": [
    "# SLICING DE CADENAS \n",
    "\n",
    " print(C1[2])"
   ]
  },
  {
   "cell_type": "code",
   "execution_count": 90,
   "id": "5fd80414",
   "metadata": {},
   "outputs": [
    {
     "name": "stdout",
     "output_type": "stream",
     "text": [
      "-PERU\n",
      "LIM\n",
      "LIMA-PERU\n"
     ]
    }
   ],
   "source": [
    "print(C1[4:])\n",
    "print(C1[:3])\n",
    "print(C1[:9])\n",
    "\n",
    "\n"
   ]
  },
  {
   "cell_type": "code",
   "execution_count": 91,
   "id": "64a48c49",
   "metadata": {},
   "outputs": [
    {
     "name": "stdout",
     "output_type": "stream",
     "text": [
      "la vacuna del covid\n"
     ]
    }
   ],
   "source": [
    "# FUNCION LOWER ---> VUELVE MINUSCULA A LA CADENA \n",
    "\n",
    "texto = 'La vacuna del covid'\n",
    "print(texto.lower())\n"
   ]
  },
  {
   "cell_type": "code",
   "execution_count": 92,
   "id": "c5c0c8a0",
   "metadata": {},
   "outputs": [
    {
     "name": "stdout",
     "output_type": "stream",
     "text": [
      "La vacuna del covid\n"
     ]
    }
   ],
   "source": [
    "# CAPITALIZE ---> VUELVE MAYUSCULA SOLO EL PRIMER CARACTER\n",
    "texto = 'La vacuna DEL COVID'\n",
    "print(texto.capitalize())\n",
    "\n"
   ]
  },
  {
   "cell_type": "code",
   "execution_count": 94,
   "id": "ad2d9d4e",
   "metadata": {},
   "outputs": [
    {
     "name": "stdout",
     "output_type": "stream",
     "text": [
      "La Vacuna Del Covid\n"
     ]
    }
   ],
   "source": [
    "# TITLE ---> VUELVE MAYUSCULA SOLO EL PRIMER CARACTER DE CADA PALABRA\n",
    "print(texto.title())"
   ]
  },
  {
   "cell_type": "code",
   "execution_count": 97,
   "id": "79087993",
   "metadata": {},
   "outputs": [
    {
     "name": "stdout",
     "output_type": "stream",
     "text": [
      "1\n"
     ]
    }
   ],
   "source": [
    "# COUNT ---> DEVUELVE LA CANTIDAD DE VECES QUE APARECE UNA CADENA EN OTRA\n",
    "texto = 'HOLA MUNDO MUNDO MUNDO'\n",
    "print(texto.count('HOLA'))"
   ]
  },
  {
   "cell_type": "code",
   "execution_count": 100,
   "id": "2ad79c5c",
   "metadata": {},
   "outputs": [
    {
     "name": "stdout",
     "output_type": "stream",
     "text": [
      "5\n",
      "-1\n"
     ]
    }
   ],
   "source": [
    "# FIND ---> TE DICE LA PRIMERA POSICION DESDE LA IZQUIERDA EN EL QUE SE ENCUENTRA UN TEXTO \n",
    "texto = \"HOLA MUNDO MUNDO MUNDO\"\n",
    "print(texto.find(\"MUNDO\"))\n",
    "print(texto.find(\"SORRO\"))\n",
    "\n"
   ]
  },
  {
   "cell_type": "code",
   "execution_count": 101,
   "id": "717d8f82",
   "metadata": {},
   "outputs": [
    {
     "name": "stdout",
     "output_type": "stream",
     "text": [
      "23\n",
      "-1\n"
     ]
    }
   ],
   "source": [
    "# RFIND ---> TE DICE LA PRIMERA POSICIOIN DESDE LA DERECHA EN EL QUE SE ENCUENTRA UN TEXTO\n",
    "texto = \"HOLA MUNDO MUNDO MUNDO MUNDO\"\n",
    "print(texto.rfind(\"MUNDO\"))\n",
    "print(texto.rfind(\"WEY\"))\n",
    "\n",
    "..000000000000000000000000000\n",
    "\n"
   ]
  },
  {
   "cell_type": "code",
   "execution_count": 116,
   "id": "b536ecda",
   "metadata": {},
   "outputs": [
    {
     "name": "stdout",
     "output_type": "stream",
     "text": [
      "True\n",
      "False\n",
      "False\n",
      "False\n"
     ]
    }
   ],
   "source": [
    "# ISDIGIT---> TRUE (CUANDO TODOS LOS CARACTERES SON CIFRAS)\n",
    "print(\"45245\".isdigit())\n",
    "print(\"45245.9\".isdigit())\n",
    "print(\"45245e\".isdigit())\n",
    "print(\"3.14151624\".isdigit())"
   ]
  },
  {
   "cell_type": "code",
   "execution_count": 127,
   "id": "e1448a45",
   "metadata": {},
   "outputs": [
    {
     "name": "stdout",
     "output_type": "stream",
     "text": [
      "True\n",
      "True\n",
      "False\n",
      "False\n",
      "False\n",
      "True\n"
     ]
    }
   ],
   "source": [
    "# ISALPHA ---> true(CUANDO TODOS LOS CARACTERES SON LETRAS )\n",
    "\n",
    "print(\"hola\".isalpha())\n",
    "print(\"hola\".isalpha())\n",
    "print(\"holar2d2\".isalpha())\n",
    "print(\"hola, soy goky\".isalpha())\n",
    "print(\"hola soy goky\".isalpha())\n",
    "print(\"holasoygoky\".isalpha())\n",
    "\n"
   ]
  },
  {
   "cell_type": "code",
   "execution_count": 114,
   "id": "27683b14",
   "metadata": {},
   "outputs": [
    {
     "name": "stdout",
     "output_type": "stream",
     "text": [
      "False\n",
      "False\n"
     ]
    }
   ],
   "source": [
    "print(\"45245e\".isdigit())\n",
    "print(\"3.14151624\".isdigit())"
   ]
  },
  {
   "cell_type": "code",
   "execution_count": 133,
   "id": "c608afbd",
   "metadata": {},
   "outputs": [
    {
     "name": "stdout",
     "output_type": "stream",
     "text": [
      "True\n",
      "True\n",
      "False\n",
      "False\n"
     ]
    }
   ],
   "source": [
    "# ISLOWER ---> true (cuando todos los caracteres son letras minusculas )\n",
    "print(\"hola\".islower())\n",
    "print(\"hoa, soy goku\".islower())\n",
    "print(\"Hola, so goku\".isalpha())\n",
    "print(\"12345\".islower())"
   ]
  },
  {
   "cell_type": "code",
   "execution_count": 137,
   "id": "ed7a0f4f",
   "metadata": {},
   "outputs": [
    {
     "name": "stdout",
     "output_type": "stream",
     "text": [
      "True\n",
      "False\n",
      "False\n",
      "False\n"
     ]
    }
   ],
   "source": [
    "# ISPPER ---> true (CUANDO TODOS LOS CARACTERES SON LETRAS MAYUSCULAS)\n",
    "\n",
    "print(\"HOLA\".isupper())\n",
    "print(\"hola, soy goku\".isupper())\n",
    "print(\"hola, soy goku\".istitle())\n",
    "print(\"12345\".isupper())\n"
   ]
  },
  {
   "cell_type": "code",
   "execution_count": 140,
   "id": "63857239",
   "metadata": {},
   "outputs": [
    {
     "name": "stdout",
     "output_type": "stream",
     "text": [
      "H.O.L.A. .M.U.N.D.O\n",
      "h.leonel.o.leonel.l.leonel.a.leonel. .leonel.m.leonel.u.leonel.n.leonel.d.leonel.o\n"
     ]
    }
   ],
   "source": [
    "#JOIN ----> TE PERMITE UNIR UNA CADENA CON BASE EN ALGUN CARACTER/CADENA\n",
    "print(\".\".join(\"HOLA MUNDO\"))\n",
    "print(\".leonel.\".join(\"hola mundo\"))"
   ]
  },
  {
   "cell_type": "code",
   "execution_count": 143,
   "id": "22b024e3",
   "metadata": {},
   "outputs": [
    {
     "name": "stdout",
     "output_type": "stream",
     "text": [
      "___________HOLA MUNDO__________\n",
      "HOLA MUNDO\n"
     ]
    }
   ],
   "source": [
    "# STRIP ---> ELIMINA ALGUN CARACTER O CADENA DEL INICIO Y FINAL\n",
    "print(\"___________HOLA MUNDO__________\".strip())\n",
    "\n",
    "print(\"_____________HOLA MUNDO_____________\".strip(\"_\"))\n",
    "\n"
   ]
  },
  {
   "cell_type": "code",
   "execution_count": 153,
   "id": "2962b917",
   "metadata": {},
   "outputs": [
    {
     "name": "stdout",
     "output_type": "stream",
     "text": [
      "H0L2 MUND0\n",
      "HOLA @@@ @@@ @@@\n",
      "HOLA _ _ _ _ _ _\n"
     ]
    }
   ],
   "source": [
    "# REPLACE ----> REEMPLAZA UNA CADENA CON OTRA \n",
    "print(\"HOLA MUNDO\".replace(\"O\",\"0\").replace(\"A\",\"2\"))\n",
    "print(\"HOLA MUNDO MUNDO MUNDO\".replace(\"MUNDO\",\"@@@\"))\n",
    "print(\"HOLA MUNDO MUNDO MUNDO MUNDO MUNDO MUNDO\".replace(\"MUNDO\",\"_\",6))"
   ]
  },
  {
   "cell_type": "code",
   "execution_count": 164,
   "id": "1fe9c330",
   "metadata": {},
   "outputs": [
    {
     "name": "stdout",
     "output_type": "stream",
     "text": [
      "9L N  0LNSAEDML\n"
     ]
    }
   ],
   "source": [
    "# ALGORITO PARA INVERTIR UNA CADENA \n",
    "\n",
    "cadena = 'HOLA MUNDO ESTAMOS EN EL 2021 DE JUNIO DEL 19'\n",
    "print(cadena[::-3])"
   ]
  },
  {
   "cell_type": "code",
   "execution_count": null,
   "id": "fcb0c377",
   "metadata": {},
   "outputs": [],
   "source": [
    "FUNCIONES O ALGORITMOS PARA INTERACTUAR CON CADENAS "
   ]
  }
 ],
 "metadata": {
  "kernelspec": {
   "display_name": "Python 3 (ipykernel)",
   "language": "python",
   "name": "python3"
  },
  "language_info": {
   "codemirror_mode": {
    "name": "ipython",
    "version": 3
   },
   "file_extension": ".py",
   "mimetype": "text/x-python",
   "name": "python",
   "nbconvert_exporter": "python",
   "pygments_lexer": "ipython3",
   "version": "3.9.7"
  }
 },
 "nbformat": 4,
 "nbformat_minor": 5
}
