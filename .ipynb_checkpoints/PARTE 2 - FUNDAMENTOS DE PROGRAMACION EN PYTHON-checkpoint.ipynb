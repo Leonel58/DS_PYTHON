{
 "cells": [
  {
   "cell_type": "markdown",
   "id": "54e56bf4",
   "metadata": {},
   "source": [
    "## PARTE 2.3 TIPO DE DATOS LÓGICO / BOOLEANO\n",
    "#### True"
   ]
  },
  {
   "cell_type": "code",
   "execution_count": 11,
   "id": "4a537973",
   "metadata": {},
   "outputs": [
    {
     "data": {
      "text/plain": [
       "3"
      ]
     },
     "execution_count": 11,
     "metadata": {},
     "output_type": "execute_result"
    }
   ],
   "source": [
    "2 == 5\n",
    "3 < 5\n",
    "1 == 1\n",
    "\n",
    "True + 1\n",
    "\n",
    "5 + True\n",
    "\n",
    "(1==1)*3\n",
    "\n"
   ]
  },
  {
   "cell_type": "markdown",
   "id": "ac36112c",
   "metadata": {},
   "source": [
    "### FALSE"
   ]
  },
  {
   "cell_type": "code",
   "execution_count": 13,
   "id": "e3a24d7c",
   "metadata": {},
   "outputs": [
    {
     "data": {
      "text/plain": [
       "1"
      ]
     },
     "execution_count": 13,
     "metadata": {},
     "output_type": "execute_result"
    }
   ],
   "source": [
    "False + 1"
   ]
  },
  {
   "cell_type": "markdown",
   "id": "a833ddf0",
   "metadata": {},
   "source": [
    "### 2.4 OPERADORES RELACIONALES"
   ]
  },
  {
   "cell_type": "code",
   "execution_count": 16,
   "id": "6caac4af",
   "metadata": {},
   "outputs": [
    {
     "name": "stdout",
     "output_type": "stream",
     "text": [
      "True\n",
      "False\n"
     ]
    }
   ],
   "source": [
    "# DIFERENTE QUE \n",
    "\n",
    "print(6!=8)\n",
    "print(6!=6)"
   ]
  },
  {
   "cell_type": "code",
   "execution_count": null,
   "id": "4a8e1efb",
   "metadata": {},
   "outputs": [],
   "source": []
  },
  {
   "cell_type": "code",
   "execution_count": null,
   "id": "7f91c3ac",
   "metadata": {},
   "outputs": [],
   "source": []
  }
 ],
 "metadata": {
  "kernelspec": {
   "display_name": "Python 3 (ipykernel)",
   "language": "python",
   "name": "python3"
  },
  "language_info": {
   "codemirror_mode": {
    "name": "ipython",
    "version": 3
   },
   "file_extension": ".py",
   "mimetype": "text/x-python",
   "name": "python",
   "nbconvert_exporter": "python",
   "pygments_lexer": "ipython3",
   "version": "3.9.7"
  }
 },
 "nbformat": 4,
 "nbformat_minor": 5
}
