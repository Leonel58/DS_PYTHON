{
 "cells": [
  {
   "cell_type": "markdown",
   "id": "a8846d85",
   "metadata": {},
   "source": [
    "\n",
    "\n",
    "###   PROTOTÍPICO \"LA VIOLENCIA DE GENERO \" \n",
    "\n",
    "\n",
    "   ### NOMBRE: LEONEL DE LEÓN \n",
    "   \n",
    "   \n",
    "   ### GRADO Y GRUPO 402\n",
    "\n",
    "\n",
    "##### CARRERA CIENCIAS DE DATOS \n",
    "\n",
    "\n",
    "#### INSTITUTO ROSARIO CASTELLANOS\n",
    "\n",
    "\n",
    "#### PROFE: ALEJANDRO DURAN CASTILLO\n",
    "\n",
    "\n",
    "\n",
    "\n",
    "\n"
   ]
  },
  {
   "cell_type": "markdown",
   "id": "19e70acc",
   "metadata": {},
   "source": [
    "   ####                                                            INTRODUCCIÓN\n",
    "                                     \n",
    "El problema de la violencia contra las mujeres, ha sido un problema constante dentro de la sociedad\n",
    "mexicana, sin embargo, ha sido hasta los últimos años que la percepción de la violencia ejercida \n",
    "contra las mujeres ha cambiado radicalmente. Esta situación se da sobre todo a partir de que la \n",
    "violencia contra las mujeres pasó de ser un tema del ámbito privado a convertirse en un problema \n",
    "del ámbito público. Este cambio en la forma en que se ve la violencia es fundamental para entender las acciones que se han tomado por parte de los gobiernos de los Estados, los Organismos Internacionales y las Organizaciones de la Sociedad Civil. La puesta de la violencia en la escena pública, permitió entender que era necesario trabajar por su erradicación en contra de las mujeres, ya que representaba un obstáculo para el efectivo goce y ejercicio de sus derechos fundamentales, que permeaba todos los ámbitos de desarrollo. Esta situación implica analizar tanto los casos de violencia, como las políticas públicas implementadas en torno al tema de la atención, detección y erradicación de la violencia contra las mujeres. Por eso mismo es que el equipo técnico del Observatorio decidió integrar en un solo documento el diagnóstico sobre las principales problemáticas de la violencia contra las mujeres y el diagnóstico situacional de las instancias de atención de la violencia contra las mujeres.\n",
    "\n",
    "A inicios de la década de los noventa la Organización Mundial de la Salud, OMS, el Banco Mundial y el Fondo de Población de las Naciones Unidas, FNUAP, conciben a la violencia contra las mujeres como un problema de salud pública. Además, inicialmente se considera como un tema de derechos humanos de las mujeres en la Conferencia Mundial de Derechos Humanos de Viena, 1993, y en relación con la salud sexual y reproductiva en la Conferencia Internacional sobre Población y Desarrollo de El Cairo, 1994. Otro avance importante fue que La Plataforma para la Acción de la Cuarta Conferencia Mundial sobre la Mujer celebrada en Beijing, 1995, dedicó un capítulo completo a la violencia contra la mujer, dando como resultado una serie de recomendaciones para los gobiernos, las organizaciones multilaterales y no gubernamentales. \n",
    "\n",
    "En ese sentido, en 1966, el Pacto Internacional de Derechos Civiles y Políticos estipula expresamente la prohibición de las discriminaciones por razón de sexo, y en el mismo año el Pacto Internacional de Derechos Económicos y Sociales de Naciones Unidas retoma expresamente esta prohibición al constatar que aun cuando estos instrumentos tienen eficacia vinculante para los Estados ratificantes el garantizar su eficacia en términos de la discriminación por sexo distaba mucho de la situación ideal para las mujeres. Es así, como la Asamblea General de la ONU aprobó en 1979 la Convención sobre la Eliminación de Todas las Formas de Discriminación Contra las Mujeres, CEDAW, la cual entro en vigor en 1981. \n"
   ]
  },
  {
   "cell_type": "code",
   "execution_count": 21,
   "id": "57ae3e1f",
   "metadata": {},
   "outputs": [],
   "source": [
    "import pandas as pd"
   ]
  },
  {
   "cell_type": "code",
   "execution_count": 22,
   "id": "73026a94",
   "metadata": {},
   "outputs": [],
   "source": [
    "DATASET = pd.read_csv(\"CORRELACION_VENTAS.csv\")"
   ]
  },
  {
   "cell_type": "code",
   "execution_count": 23,
   "id": "8017be8f",
   "metadata": {
    "scrolled": true
   },
   "outputs": [
    {
     "data": {
      "text/plain": [
       "<bound method NDFrame.head of   ;TV;RADIO;Newspaper;Sales\n",
       "0    0;230.1;37.8;69.2;22.1\n",
       "1     1;44.5;39.3;45.1;10.4\n",
       "2     2;17.2;45.9;69.3;12.0\n",
       "3    3;151.5;41.3;58.5;16.5\n",
       "4    4;180.8;10.8;58.4;17.9>"
      ]
     },
     "execution_count": 23,
     "metadata": {},
     "output_type": "execute_result"
    }
   ],
   "source": [
    "DATASET.head"
   ]
  },
  {
   "cell_type": "code",
   "execution_count": 2,
   "id": "71d1cc28",
   "metadata": {},
   "outputs": [
    {
     "ename": "SyntaxError",
     "evalue": "invalid syntax (Temp/ipykernel_14628/527145592.py, line 13)",
     "output_type": "error",
     "traceback": [
      "\u001b[1;36m  File \u001b[1;32m\"C:\\Users\\WIN10\\AppData\\Local\\Temp/ipykernel_14628/527145592.py\"\u001b[1;36m, line \u001b[1;32m13\u001b[0m\n\u001b[1;33m    BETA = NUMERADOR_BETA / DENOMINADOR_BETA\u001b[0m\n\u001b[1;37m    ^\u001b[0m\n\u001b[1;31mSyntaxError\u001b[0m\u001b[1;31m:\u001b[0m invalid syntax\n"
     ]
    }
   ],
   "source": [
    "import numpy as np\n",
    "\n",
    "# DEFINICIO DE VARIALES \"X\" - \"Y\"\n",
    "VX = \"TV\"\n",
    "VY = \"Sales\"\n",
    "\n",
    "# CALCULO DE ALFA Y BETA \n",
    "NUMERADOR_BETA = sum((DATASET[VX]-np.mean(DATASET[VX]))*(DATASET[VY]-np.mean(DATASET[VY])))\n",
    "NUMERADOR_BETA\n",
    "\n",
    "DENOMINADOR_BETA = sum((DATASET[VX]-np.mean(DATASET[VX]))**2\n",
    "                       \n",
    "BETA = NUMERADOR_BETA / DENOMINADOR_BETA\n",
    "print(\"BETA --->{}\".format(BETA))\n",
    "                       \n",
    "ALFA = np.mean(DATASET[VY]) - BETA*np.mean(DATASET[VX])\n",
    "print(\"ALFA---> {}\".format(ALFA))\n",
    "print(\"--------\")\n",
    "print(\"ECUACION DE REGRESION---> Y = {} + {}X\".format(ALFA,BETA))\n",
    "                       \n",
    "                       \n",
    "# CALCULO DE LA PREDICCION SOBRE EL DATASET\n",
    "                       \n",
    "DATASET[\"Sales_PRED\"] = ALFA + BETA * DATASET[\"TV\"]\n",
    "                       \n",
    "# COMPORTAMIENTO DE LOS PUNTOS REALES Y LOS PREDICHOS\n",
    "import matplotlib.pyplot as plt\n",
    "\n",
    "plt.plot(DATASET[\"TV\"],DATASET[\"Sales\"],\"bx\" , label= \"REAL\")\n",
    "plt.plot(DATASET[\"TV\"],DATASET[\"Sales_PRED\"],\"rx\", label= \"PREDICHO\")\n",
    "plt.title(\"COMPORTAMIENTO DE LOS PUNTOS REALES Y LOS PREDICHOS\")\n",
    "plt.legent()\n",
    "plt.show() \n",
    "                       \n",
    "# COMPORTAMIENTO DE LOS ERRORES\n",
    "plt.hist(DATASET[\"Sales_PRED\"]-DATASET[\"Sales\"],bins = 10)\n",
    "plt.title(\"COMPORTAMIENTO DEL ERROR\")                       \n",
    "\n",
    "# CALCULO DE SRC, SMC, Y STC\n",
    "SMC = sum(DATASET[\"Sales_PRED\"]-np.mean(DATASET[\"Sales\"]))**2\n",
    "SRC = sum(DATASET[\"Sales\"]-DATASET[\"Sales_PRED\"])**2\n",
    "STC = sum((DATASET[\"Sales\"]-np.mean(DATASET[\"Sales\"]))**2\n",
    "print(\"SMC--->{}\".format(SMC))\n",
    "print(\"SRC--->{}\".format(SRC))\n",
    "print(\"STC--->{}\".format(STC))\n",
    "          \n",
    "          \n",
    "# CALCULO DE R2\n",
    "R2 = SMC / STC\n",
    "print(\"---------------->\")\n",
    "print(\"R2 ---> {}\".format(R2))\n",
    "          \n",
    "#CALCULO DE ESR\n",
    "ESR = np.sqrt(SRC)/(DATASET.shape[0]-2)\n",
    "print(\"------------>\")\n",
    "print(\"ESR--> {}\".format(ESR))\n",
    "\n",
    "# CALCULO DE RSR_PORCENT\n",
    "ESR_PORCENT = ESR / np.mean(DATASET[\"Sales\"])\n",
    "print(\"---------------->\")\n",
    "print(\"ESR_PORCENT ----> {}\".format(ESR_PORCENT))\n",
    "         "
   ]
  },
  {
   "cell_type": "code",
   "execution_count": 20,
   "id": "910f5e46",
   "metadata": {},
   "outputs": [],
   "source": []
  },
  {
   "cell_type": "code",
   "execution_count": null,
   "id": "e3581a22",
   "metadata": {},
   "outputs": [],
   "source": []
  },
  {
   "cell_type": "code",
   "execution_count": null,
   "id": "43228504",
   "metadata": {},
   "outputs": [],
   "source": []
  },
  {
   "cell_type": "code",
   "execution_count": null,
   "id": "d4933a56",
   "metadata": {},
   "outputs": [],
   "source": []
  }
 ],
 "metadata": {
  "kernelspec": {
   "display_name": "Python 3 (ipykernel)",
   "language": "python",
   "name": "python3"
  },
  "language_info": {
   "codemirror_mode": {
    "name": "ipython",
    "version": 3
   },
   "file_extension": ".py",
   "mimetype": "text/x-python",
   "name": "python",
   "nbconvert_exporter": "python",
   "pygments_lexer": "ipython3",
   "version": "3.9.7"
  }
 },
 "nbformat": 4,
 "nbformat_minor": 5
}
