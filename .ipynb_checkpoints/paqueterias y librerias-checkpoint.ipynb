{
 "cells": [
  {
   "cell_type": "markdown",
   "id": "c34ab44f",
   "metadata": {},
   "source": [
    "# librerias\n",
    "\n",
    "##### de python\n"
   ]
  },
  {
   "cell_type": "code",
   "execution_count": 8,
   "id": "2707a707",
   "metadata": {},
   "outputs": [],
   "source": [
    "from collections import Counter\n",
    "from collections import defaultdict\n",
    "from collections import deque\n",
    "from collections import namedtuple\n",
    "from collections import OrderedDict\n",
    "from graphviz import Source\n",
    "from io import open\n",
    "from IPython.display import Image\n",
    "from mpl_toolkits.mplot3d import Axes3D\n",
    "from pyclust import KMedoids\n",
    "from pydotplus import graph_from_dot_data\n",
    "from scipy.cluster.hierarchy import fcluster\n",
    "from scipy.cluster.vq import kmeans\n",
    "from scipy.cluster.vq import vq\n",
    "from scipy.spatial import distance_matrix\n",
    "from setuptools import setup\n",
    "from sklearn import datasets \n",
    "from sklearn import linear_model\n",
    "from sklearn import metrics \n",
    "from sklearn import svm \n",
    "from sklearn.cluster import AgglomerativeClustering\n",
    "from sklearn.cluster import KMeans\n",
    "from sklearn.cluster import SpectralClustering\n",
    "from sklearn.datasets import fetch_lfw_people\n",
    "from sklearn.ensemble import RandomForestClassifier\n",
    "from sklearn.feature_selection import RFE\n",
    "from sklearn.linear_model import LogisticRegression\n",
    "from sklearn.metrics import accuracy_score\n",
    "from sklearn.metrics import confusion_matrix\n",
    "from sklearn.metrics import f1_score\n",
    "from sklearn.metrics import precision_score\n",
    "from sklearn.metrics import recall_score\n",
    "from sklearn.model_selection import KFold\n",
    "from sklearn.model_selection import train_test_split\n",
    "from sklearn.preprocessing import PolynomialFeatures\n",
    "from sklearn.preprocessing import StandardScaler\n",
    "from sklearn.svm import SVR\n",
    "from sklearn.tree import DecisionTreeClassifier\n",
    "from sklearn.tree import export_graphviz\n",
    "from tkinter import *\n",
    "from tkinter import colorchooser \n",
    "from tkinter import filedialog\n",
    "from tkinter import messagebox\n",
    "import chart_studio.plotly\n",
    "import copy\n",
    "import datetime\n",
    "import doctest\n",
    "import itertools\n",
    "import math\n",
    "import matplotlib.pyplot\n",
    "import numpy\n",
    "import os \n",
    "import pandas \n",
    "import pickle\n",
    "import plotly.graph_objects\n",
    "import plotly.offline\n",
    "import pydotplus\n",
    "import random\n",
    "import sklearn\n",
    "import sqlite3\n",
    "import statsmodels.formula.api\n",
    "import sys\n",
    "import unittest\n",
    "import urllib3\n"
   ]
  },
  {
   "cell_type": "code",
   "execution_count": null,
   "id": "17f2d895",
   "metadata": {},
   "outputs": [],
   "source": []
  },
  {
   "cell_type": "code",
   "execution_count": null,
   "id": "659a0680",
   "metadata": {},
   "outputs": [],
   "source": []
  },
  {
   "cell_type": "code",
   "execution_count": null,
   "id": "81481cdc",
   "metadata": {},
   "outputs": [],
   "source": []
  },
  {
   "cell_type": "code",
   "execution_count": null,
   "id": "c9d25202",
   "metadata": {},
   "outputs": [],
   "source": []
  },
  {
   "cell_type": "code",
   "execution_count": null,
   "id": "96f52ed6",
   "metadata": {},
   "outputs": [],
   "source": []
  },
  {
   "cell_type": "code",
   "execution_count": null,
   "id": "555485bf",
   "metadata": {},
   "outputs": [],
   "source": []
  },
  {
   "cell_type": "code",
   "execution_count": null,
   "id": "d4c45830",
   "metadata": {},
   "outputs": [],
   "source": []
  },
  {
   "cell_type": "code",
   "execution_count": null,
   "id": "b1010784",
   "metadata": {},
   "outputs": [],
   "source": []
  }
 ],
 "metadata": {
  "kernelspec": {
   "display_name": "Python 3 (ipykernel)",
   "language": "python",
   "name": "python3"
  },
  "language_info": {
   "codemirror_mode": {
    "name": "ipython",
    "version": 3
   },
   "file_extension": ".py",
   "mimetype": "text/x-python",
   "name": "python",
   "nbconvert_exporter": "python",
   "pygments_lexer": "ipython3",
   "version": "3.9.7"
  }
 },
 "nbformat": 4,
 "nbformat_minor": 5
}
