{
 "cells": [
  {
   "cell_type": "markdown",
   "id": "cd399cf6",
   "metadata": {},
   "source": [
    "#### PARTE 3.1 SENTENCIA DE FLUJO"
   ]
  },
  {
   "cell_type": "code",
   "execution_count": 9,
   "id": "7538cfd8",
   "metadata": {},
   "outputs": [
    {
     "ename": "IndentationError",
     "evalue": "unexpected indent (Temp/ipykernel_6576/2218407779.py, line 3)",
     "output_type": "error",
     "traceback": [
      "\u001b[1;36m  File \u001b[1;32m\"C:\\Users\\WIN10\\AppData\\Local\\Temp/ipykernel_6576/2218407779.py\"\u001b[1;36m, line \u001b[1;32m3\u001b[0m\n\u001b[1;33m    X = 1\u001b[0m\n\u001b[1;37m    ^\u001b[0m\n\u001b[1;31mIndentationError\u001b[0m\u001b[1;31m:\u001b[0m unexpected indent\n"
     ]
    }
   ],
   "source": []
  },
  {
   "cell_type": "code",
   "execution_count": 11,
   "id": "9d23d18b",
   "metadata": {},
   "outputs": [],
   "source": [
    " X = 2\n",
    "if X == 1:\n",
    "    print(\"HOLA\")\n",
    "    print(\"X vale 1\")"
   ]
  },
  {
   "cell_type": "code",
   "execution_count": 15,
   "id": "2f084986",
   "metadata": {},
   "outputs": [],
   "source": [
    "#IF ANIDADOS \n",
    "X = 1\n",
    "Y = 4\n",
    "if X == 2:\n",
    "    print(\"X vale 2\")\n",
    "    \n",
    "if Y == 3:\n",
    "    print(\"Y vale 3\")\n"
   ]
  },
  {
   "cell_type": "code",
   "execution_count": 18,
   "id": "375a5b4a",
   "metadata": {},
   "outputs": [
    {
     "name": "stdout",
     "output_type": "stream",
     "text": [
      "X no vale 1\n"
     ]
    }
   ],
   "source": [
    "# IF ELSE \n",
    "X = 5\n",
    "if X == 1:\n",
    "    print(\"X vale 1\") #si\n",
    "else:\n",
    "    print(\"X no vale 1\")\n",
    "\n",
    "\n",
    "\n"
   ]
  },
  {
   "cell_type": "code",
   "execution_count": 61,
   "id": "394691fe",
   "metadata": {},
   "outputs": [
    {
     "name": "stdout",
     "output_type": "stream",
     "text": [
      "Ingrese nota del alumno10\n",
      "REGULAR\n"
     ]
    }
   ],
   "source": [
    "#IF ELIF --->  MÉTODO SIN RESUMIR\n",
    "NOTA = int(input(\"Ingrese nota del alumno\"))\n",
    "\n",
    "if NOTA >= 18:\n",
    "    print(\"EXCELENTE\")\n",
    "else:\n",
    "    if NOTA >= 14:\n",
    "        print(\"BUENO\")\n",
    "    else:\n",
    "            if NOTA >= 10:\n",
    "                print(\"REGULAR\")\n",
    "            else:\n",
    "                print(\"MALO\")\n",
    "\n"
   ]
  },
  {
   "cell_type": "code",
   "execution_count": 90,
   "id": "f4221607",
   "metadata": {},
   "outputs": [
    {
     "name": "stdout",
     "output_type": "stream",
     "text": [
      "Ingrese la nota del alumno: 9\n",
      "MALO\n"
     ]
    }
   ],
   "source": [
    "# IF ELIF --> MÉTODO RESUMIDO \n",
    "\n",
    "NOTA = int(input(\"Ingrese la nota del alumno: \"))\n",
    "\n",
    "if NOTA >= 18:\n",
    "    print(\"EXCELENTE\")\n",
    "elif NOTA >= 14:\n",
    "    print(\"BUENO\")\n",
    "elif NOTA >= 10:\n",
    "    print(\"REGULAR\")\n",
    "else:\n",
    "    print(\"MALO\")"
   ]
  },
  {
   "cell_type": "markdown",
   "id": "02aed579",
   "metadata": {},
   "source": [
    "### SENTENCIA DE FLUJO - WHILE"
   ]
  },
  {
   "cell_type": "code",
   "execution_count": 97,
   "id": "b3c70f09",
   "metadata": {},
   "outputs": [
    {
     "name": "stdout",
     "output_type": "stream",
     "text": [
      "SALTA\n",
      "SALTA\n",
      "SALTA\n"
     ]
    }
   ],
   "source": [
    "#WHILE\n",
    "X = 1  \n",
    "while X <= 3:\n",
    "    print(\"SALTA\")\n",
    "    X += 1\n",
    "    \n",
    "    "
   ]
  },
  {
   "cell_type": "code",
   "execution_count": null,
   "id": "2589f340",
   "metadata": {},
   "outputs": [],
   "source": [
    "#WHILE\n",
    "x = 4\n",
    "while x <= 5:\n",
    "    x = int(input(\"Ingrese x:\"))\n",
    "    print(\"SALTA\")\n",
    "else:\n",
    "    print(\"TERMINASTE DE SALTAR\")\n",
    "    print(\"HOLA MUNDO\")\n",
    "    \n",
    "    \n",
    "    "
   ]
  },
  {
   "cell_type": "code",
   "execution_count": null,
   "id": "2792817c",
   "metadata": {},
   "outputs": [],
   "source": [
    "# BREAK --> PARA ROMPER EL BUCLE\n",
    "x = 4\n",
    "while x <= 5:\n",
    "    x = int(input(\"Ingrese x:\"))\n",
    "    if x == 0:\n",
    "        break\n",
    "    \n",
    "    print(\"SALTA\")\n",
    "      \n",
    "else:\n",
    "    print(\"TERMINASTE DE SALTAR\")\n",
    "    print(\"HOLA MUNDO\")"
   ]
  },
  {
   "cell_type": "code",
   "execution_count": 125,
   "id": "b188474f",
   "metadata": {},
   "outputs": [
    {
     "name": "stdout",
     "output_type": "stream",
     "text": [
      "SALTA 2\n",
      "SALTA 4\n",
      "SALTA 5\n",
      "SALTA 6\n"
     ]
    }
   ],
   "source": [
    "x = 1\n",
    "while x <= 5:\n",
    "    x += 1\n",
    "    if x == 3:\n",
    "        continue\n",
    "    print(\"SALTA\",x)\n"
   ]
  },
  {
   "cell_type": "code",
   "execution_count": 132,
   "id": "daf1712a",
   "metadata": {},
   "outputs": [
    {
     "name": "stdout",
     "output_type": "stream",
     "text": [
      "Ingrese la nota del alumno 40\n",
      "Ingrese la nota del alumno 50\n",
      "Ingrese la nota del alumno -9\n",
      "Ingrese la nota del alumno 16\n"
     ]
    }
   ],
   "source": [
    "#ALGORITMO DE CAPTURA DE NOTAS CORRECTAS (0 - 20)\n",
    "while (True):\n",
    "    NOTA = int(input(\"Ingrese la nota del alumno \"))\n",
    "    \n",
    "    if NOTA >= 0 and NOTA <= 20:\n",
    "        break\n",
    "        \n"
   ]
  },
  {
   "cell_type": "code",
   "execution_count": 1,
   "id": "b430207c",
   "metadata": {},
   "outputs": [
    {
     "name": "stdout",
     "output_type": "stream",
     "text": [
      "HOLA 0\n",
      "HOLA 1\n",
      "HOLA 2\n",
      "HOLA 3\n",
      "HOLA 4\n"
     ]
    }
   ],
   "source": [
    "#REPETIR ALGOD DETERMINADA CANTIDAD DE VECES \n",
    "for x in range (5):\n",
    "    print(\"HOLA\",x)"
   ]
  },
  {
   "cell_type": "code",
   "execution_count": 2,
   "id": "394f9b17",
   "metadata": {},
   "outputs": [
    {
     "name": "stdout",
     "output_type": "stream",
     "text": [
      "H\n",
      "O\n",
      "L\n",
      "A\n",
      " \n",
      "M\n",
      "U\n",
      "N\n",
      "D\n",
      "O\n"
     ]
    }
   ],
   "source": [
    "#FOR EN CADENAS \n",
    "CADENA = \"HOLA MUNDO\"\n",
    "for C in CADENA:\n",
    "    print(C)"
   ]
  },
  {
   "cell_type": "code",
   "execution_count": 2,
   "id": "7351cc39",
   "metadata": {},
   "outputs": [
    {
     "name": "stdout",
     "output_type": "stream",
     "text": [
      "0\n",
      "2\n",
      "5\n",
      "6\n",
      "4\n",
      "8\n",
      "100\n"
     ]
    }
   ],
   "source": [
    "# FOR EN LISTAS \n",
    "LISTA = [ 0, 2 , 5 , 6 ,4 , 8 , 100 ]\n",
    "for L in LISTA:\n",
    "    print(L)"
   ]
  },
  {
   "cell_type": "code",
   "execution_count": 8,
   "id": "77308dba",
   "metadata": {},
   "outputs": [
    {
     "ename": "IndentationError",
     "evalue": "expected an indented block (Temp/ipykernel_12392/2092698676.py, line 3)",
     "output_type": "error",
     "traceback": [
      "\u001b[1;36m  File \u001b[1;32m\"C:\\Users\\WIN10\\AppData\\Local\\Temp/ipykernel_12392/2092698676.py\"\u001b[1;36m, line \u001b[1;32m3\u001b[0m\n\u001b[1;33m    print(L)\u001b[0m\n\u001b[1;37m    ^\u001b[0m\n\u001b[1;31mIndentationError\u001b[0m\u001b[1;31m:\u001b[0m expected an indented block\n"
     ]
    }
   ],
   "source": []
  },
  {
   "cell_type": "code",
   "execution_count": 3,
   "id": "5623f3c7",
   "metadata": {},
   "outputs": [],
   "source": [
    "x = 5\n",
    "if x == 1:\n",
    "    print(\"HOLA\")\n",
    "    print(\"x vale 1\")"
   ]
  },
  {
   "cell_type": "code",
   "execution_count": 9,
   "id": "c123ea04",
   "metadata": {},
   "outputs": [
    {
     "name": "stdout",
     "output_type": "stream",
     "text": [
      "x vale 2\n"
     ]
    }
   ],
   "source": [
    "### if anidado \n",
    "\n",
    "x = 2\n",
    "y = 4\n",
    "\n",
    "if x == 2:\n",
    "    print(\"x vale 2\")\n",
    "    if y == 3:\n",
    "        print(\"y vale 3\") \n",
    "        \n",
    "        \n",
    "        "
   ]
  },
  {
   "cell_type": "code",
   "execution_count": 13,
   "id": "8dd44202",
   "metadata": {},
   "outputs": [
    {
     "name": "stdout",
     "output_type": "stream",
     "text": [
      "equis no vale cinco\n"
     ]
    }
   ],
   "source": [
    " x = 10\n",
    "if x == 5:\n",
    "        print(\"equis vale cinco\")\n",
    "else:\n",
    "        print(\"equis no vale cinco\")"
   ]
  },
  {
   "cell_type": "code",
   "execution_count": 15,
   "id": "a81d53b5",
   "metadata": {},
   "outputs": [
    {
     "name": "stdout",
     "output_type": "stream",
     "text": [
      "lalo no tiene 20 años\n"
     ]
    }
   ],
   "source": [
    "lalo = 30\n",
    "if lalo == 20:\n",
    "    print(\"lalo tiene 20 años\")\n",
    "else:\n",
    "    print(\"lalo no tiene 20 años\")\n",
    "\n"
   ]
  },
  {
   "cell_type": "code",
   "execution_count": 16,
   "id": "8c764361",
   "metadata": {},
   "outputs": [
    {
     "name": "stdout",
     "output_type": "stream",
     "text": [
      "Ingrese nota del alumno: 4\n"
     ]
    }
   ],
   "source": [
    "# if ## elif -- metodo sin resumir \n",
    "nota = int(input(\"Ingrese nota del alumno: \"))\n",
    "\n"
   ]
  },
  {
   "cell_type": "code",
   "execution_count": null,
   "id": "c27a341d",
   "metadata": {},
   "outputs": [],
   "source": []
  },
  {
   "cell_type": "code",
   "execution_count": null,
   "id": "d15d79e2",
   "metadata": {},
   "outputs": [],
   "source": []
  }
 ],
 "metadata": {
  "kernelspec": {
   "display_name": "Python 3 (ipykernel)",
   "language": "python",
   "name": "python3"
  },
  "language_info": {
   "codemirror_mode": {
    "name": "ipython",
    "version": 3
   },
   "file_extension": ".py",
   "mimetype": "text/x-python",
   "name": "python",
   "nbconvert_exporter": "python",
   "pygments_lexer": "ipython3",
   "version": "3.9.7"
  }
 },
 "nbformat": 4,
 "nbformat_minor": 5
}
