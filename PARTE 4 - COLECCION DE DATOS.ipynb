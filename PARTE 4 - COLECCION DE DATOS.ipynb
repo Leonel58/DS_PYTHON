{
 "cells": [
  {
   "cell_type": "markdown",
   "id": "c21fa3ef",
   "metadata": {},
   "source": [
    "## PARTE 4.1 LISTAS \n",
    "\n",
    "##### * ES UNA COLECCION DE DATOS MODIFICABLE\n",
    "##### * PERMITE TENER ELEMENTOS REPETIDOS\n",
    "##### * PERMITE ALMACENAR DISTINTOS TIPOS DE DATOS\n",
    "##### * CADA ELEMENTO SE LLAMA ITEM\n",
    "##### * COLOCAR LOS ELEMENTOS ENTRE  [  ] Y SEPARADOS DE POR COMAS "
   ]
  },
  {
   "cell_type": "code",
   "execution_count": 3,
   "id": "e7ea1e06",
   "metadata": {},
   "outputs": [
    {
     "name": "stdout",
     "output_type": "stream",
     "text": [
      "3.1415\n"
     ]
    }
   ],
   "source": [
    "LISTA1 = [ 3.1415 , 30 , True , \"hola\" , \"chau\" ]\n",
    "print(LISTA1[0])"
   ]
  },
  {
   "cell_type": "code",
   "execution_count": 4,
   "id": "9021b38b",
   "metadata": {},
   "outputs": [
    {
     "name": "stdout",
     "output_type": "stream",
     "text": [
      "3.1415\n",
      "30\n",
      "True\n",
      "hola\n",
      "chau\n",
      "LOBO SE COME A LAS MOSCAS\n",
      "LOBO SE COME A LAS MOSCAS\n"
     ]
    }
   ],
   "source": [
    "LISTA1 = [ 3.1415 , 30 , True , \"hola\" , \"chau\" , \"LOBO SE COME A LAS MOSCAS\"]\n",
    "print(LISTA1[0])\n",
    "print(LISTA1[1])\n",
    "print(LISTA1[2])\n",
    "print(LISTA1[3])\n",
    "print(LISTA1[4])\n",
    "print(LISTA1[5])\n",
    "\n",
    "# PRINT(LISTA1[-1])\n",
    "print(LISTA1[-1])"
   ]
  },
  {
   "cell_type": "markdown",
   "id": "adaa8c48",
   "metadata": {},
   "source": [
    "### COPIA INCORRECTA DE UNA LISTA"
   ]
  },
  {
   "cell_type": "code",
   "execution_count": 49,
   "id": "99ff9ec8",
   "metadata": {},
   "outputs": [
    {
     "name": "stdout",
     "output_type": "stream",
     "text": [
      "[1, 2, 3]\n",
      "[1, 2, 3, 4]\n"
     ]
    }
   ],
   "source": [
    "LISTA1 = [1,2,3]\n",
    "LISTA2 = LISTA1.copy()\n",
    "\n",
    "LISTA2.append(4)\n",
    "\n",
    "print(LISTA1)\n",
    "print(LISTA2)"
   ]
  },
  {
   "cell_type": "code",
   "execution_count": 55,
   "id": "bc4c6c4a",
   "metadata": {},
   "outputs": [
    {
     "name": "stdout",
     "output_type": "stream",
     "text": [
      "[1, 2, 3]\n",
      "[1, 2, 3, 4, 4, 5, 5, 5, 6]\n"
     ]
    }
   ],
   "source": [
    "# COPIA CORRECTA DE UNA LISTA\n",
    "LISTA1 = [1,2,3]\n",
    "LISTA1 = LISTA1.copy()\n",
    "\n",
    "LISTA2.append(6)\n",
    "\n",
    "print(LISTA1)\n",
    "print(LISTA2)"
   ]
  },
  {
   "cell_type": "code",
   "execution_count": 30,
   "id": "7ebf66b7",
   "metadata": {},
   "outputs": [
    {
     "data": {
      "text/plain": [
       "array([0, 1, 2, 3, 4, 5, 6, 7, 8, 9])"
      ]
     },
     "execution_count": 30,
     "metadata": {},
     "output_type": "execute_result"
    }
   ],
   "source": [
    "#LISTA AUTOMATICA\n",
    "import numpy\n",
    "\n",
    "LISTA_AUTO = numpy.arange(10)\n",
    "LISTA_AUTO\n"
   ]
  },
  {
   "cell_type": "code",
   "execution_count": 38,
   "id": "e7e9f74d",
   "metadata": {},
   "outputs": [
    {
     "data": {
      "text/plain": [
       "array([ 0,  1,  2,  3,  4,  5,  6,  7,  8,  9, 10, 11, 12, 13, 14, 15, 16,\n",
       "       17, 18, 19, 20, 21, 22, 23, 24, 25, 26, 27, 28, 29, 30, 31, 32, 33,\n",
       "       34, 35, 36, 37, 38, 39, 40, 41, 42, 43, 44, 45, 46, 47, 48, 49, 50,\n",
       "       51, 52, 53, 54, 55, 56, 57, 58, 59, 60, 61, 62, 63, 64, 65, 66, 67,\n",
       "       68, 69, 70, 71, 72, 73, 74, 75, 76, 77, 78, 79, 80, 81, 82, 83, 84,\n",
       "       85, 86, 87, 88, 89, 90, 91, 92, 93, 94, 95, 96, 97, 98, 99])"
      ]
     },
     "execution_count": 38,
     "metadata": {},
     "output_type": "execute_result"
    }
   ],
   "source": [
    "#AUTOMÁTICA\n",
    "import numpy\n",
    "\n",
    "LISTA_AUTO = numpy.arange(100)\n",
    "LISTA_AUTO"
   ]
  },
  {
   "cell_type": "code",
   "execution_count": 41,
   "id": "40c34f7e",
   "metadata": {},
   "outputs": [
    {
     "data": {
      "text/plain": [
       "[1, 2, 3, 3, 4, 5, 6]"
      ]
     },
     "execution_count": 41,
     "metadata": {},
     "output_type": "execute_result"
    }
   ],
   "source": [
    "#SUMA DE LISTAS \n",
    "LISTA1 = [1,2,3]\n",
    "LISTA2 = [3,4,5,6]\n",
    "LISTA3 = LISTA1 + LISTA2\n",
    "LISTA3"
   ]
  },
  {
   "cell_type": "code",
   "execution_count": 42,
   "id": "83947d0b",
   "metadata": {},
   "outputs": [
    {
     "data": {
      "text/plain": [
       "[10, 2, 3]"
      ]
     },
     "execution_count": 42,
     "metadata": {},
     "output_type": "execute_result"
    }
   ],
   "source": [
    "#MODIFICACIÓN DE LISTAS\n",
    "LISTA1 = [1,2,3]\n",
    "LISTA1[0] = 10\n",
    "LISTA1"
   ]
  },
  {
   "cell_type": "code",
   "execution_count": 45,
   "id": "9166eece",
   "metadata": {},
   "outputs": [
    {
     "data": {
      "text/plain": [
       "[10, 20, 30, 4, 5, 6, 7, 8, 9]"
      ]
     },
     "execution_count": 45,
     "metadata": {},
     "output_type": "execute_result"
    }
   ],
   "source": [
    "LISTA1 = [1,2,3,4,5,6,7,8,9]\n",
    "LISTA1[0] = 10\n",
    "LISTA1[1] = 20\n",
    "LISTA1[2] = 30\n",
    "LISTA1"
   ]
  },
  {
   "cell_type": "code",
   "execution_count": 47,
   "id": "4df9a3bb",
   "metadata": {},
   "outputs": [
    {
     "name": "stdout",
     "output_type": "stream",
     "text": [
      "9\n"
     ]
    }
   ],
   "source": [
    "#CANTIDAD DE ELEMENTOS\n",
    "LISTA = [1,2,3,4,5,6,7,8]\n",
    "print(len(LISTA1)) \n"
   ]
  },
  {
   "cell_type": "code",
   "execution_count": 49,
   "id": "04d50af6",
   "metadata": {},
   "outputs": [
    {
     "data": {
      "text/plain": [
       "[1, 2, 3]"
      ]
     },
     "execution_count": 49,
     "metadata": {},
     "output_type": "execute_result"
    }
   ],
   "source": [
    "#LISTA DE LISTAS\n",
    "LISTA1 = [1,2,3]\n",
    "LISTA2 = [4,5,6]\n",
    "LISTA3 = [7,8,9]\n",
    "\n",
    "LISTA4 = [LISTA1 , LISTA2 , LISTA3 ]\n",
    "LISTA4[0]\n"
   ]
  },
  {
   "cell_type": "markdown",
   "id": "4fea6ed5",
   "metadata": {},
   "source": [
    "## funciones de una lista"
   ]
  },
  {
   "cell_type": "code",
   "execution_count": 52,
   "id": "7f376d46",
   "metadata": {},
   "outputs": [
    {
     "data": {
      "text/plain": [
       "[1, 2, 3, 5]"
      ]
     },
     "execution_count": 52,
     "metadata": {},
     "output_type": "execute_result"
    }
   ],
   "source": [
    "#APPEND --> AGREGAR UN ELEMENTO AL FINAL \n",
    "LISTA1 = [1,2,3]\n",
    "LISTA1.append(5)\n",
    "LISTA1"
   ]
  },
  {
   "cell_type": "code",
   "execution_count": 57,
   "id": "c0fb8ae6",
   "metadata": {},
   "outputs": [
    {
     "data": {
      "text/plain": [
       "[]"
      ]
     },
     "execution_count": 57,
     "metadata": {},
     "output_type": "execute_result"
    }
   ],
   "source": [
    "# APPEND --> ELIMINA UN ELEMENTO AL FINAL DE LA LISTA \n",
    "LISTA1 = [1,2,3]\n",
    "LISTA1.pop()\n",
    "LISTA1.pop()\n",
    "LISTA1.pop()\n",
    "LISTA1\n"
   ]
  },
  {
   "cell_type": "code",
   "execution_count": 58,
   "id": "496c1fd7",
   "metadata": {},
   "outputs": [
    {
     "data": {
      "text/plain": [
       "[]"
      ]
     },
     "execution_count": 58,
     "metadata": {},
     "output_type": "execute_result"
    }
   ],
   "source": [
    "#CREAR --> ELIMINAR TODOS LOS ELEMENTOS\n",
    "LISTA1 = [1,2,3]\n",
    "LISTA1.clear()\n",
    "LISTA1"
   ]
  },
  {
   "cell_type": "code",
   "execution_count": 61,
   "id": "8ee22e57",
   "metadata": {},
   "outputs": [
    {
     "data": {
      "text/plain": [
       "[4, 5, 6, 1, 2, 3]"
      ]
     },
     "execution_count": 61,
     "metadata": {},
     "output_type": "execute_result"
    }
   ],
   "source": [
    "#EXTEND ---> AGREGA UNA LISTA AL FINAL\n",
    "LISTA1 = [1,2,3]\n",
    "LISTA2 = [4,5,6]\n",
    "\n",
    "LISTA2.extend(LISTA1)\n",
    "LISTA2\n"
   ]
  },
  {
   "cell_type": "code",
   "execution_count": 66,
   "id": "c2a85b02",
   "metadata": {},
   "outputs": [
    {
     "data": {
      "text/plain": [
       "0"
      ]
     },
     "execution_count": 66,
     "metadata": {},
     "output_type": "execute_result"
    }
   ],
   "source": [
    "#COUNT --> DEVUELVE LA CANTIDAD DE VECES QUE APARECE UN ELEMENTO\n",
    "LISTA1 = [1,2,3,4,3,3,3,3]\n",
    "LISTA1.count(7)\n"
   ]
  },
  {
   "cell_type": "code",
   "execution_count": 82,
   "id": "2d1df9b6",
   "metadata": {},
   "outputs": [
    {
     "data": {
      "text/plain": [
       "7"
      ]
     },
     "execution_count": 82,
     "metadata": {},
     "output_type": "execute_result"
    }
   ],
   "source": [
    "#INDEX ---> DEVUELVE EL INDICE DE DETERMINADO ELEMENTO\n",
    "LISTA2 = [4,5,6,8,9,10,11,12,13]\n",
    "LISTA2.index(12)"
   ]
  },
  {
   "cell_type": "code",
   "execution_count": 86,
   "id": "49c60521",
   "metadata": {},
   "outputs": [
    {
     "data": {
      "text/plain": [
       "[4, 5, 6, 7, 8, 10, 9]"
      ]
     },
     "execution_count": 86,
     "metadata": {},
     "output_type": "execute_result"
    }
   ],
   "source": [
    "#INSERT ---> INSERTAR UN ELEMENTO EN POSICION \n",
    "LISTA2 = [4,5,6,7,8,9]\n",
    "LISTA2.insert(5,10)\n",
    "LISTA2"
   ]
  },
  {
   "cell_type": "code",
   "execution_count": 87,
   "id": "f85fccff",
   "metadata": {},
   "outputs": [
    {
     "data": {
      "text/plain": [
       "[4, 5, 6, 8, 9]"
      ]
     },
     "execution_count": 87,
     "metadata": {},
     "output_type": "execute_result"
    }
   ],
   "source": [
    "#POP ---> ELIMINAR ELEMENTO EN POSICION \n",
    "LISTA2 = [4,5,6,7,8,9]\n",
    "LISTA2.pop(3)\n",
    "LISTA2"
   ]
  },
  {
   "cell_type": "code",
   "execution_count": 96,
   "id": "82e5a961",
   "metadata": {},
   "outputs": [
    {
     "data": {
      "text/plain": [
       "[4, 5, 6, 7, 7, 7, 7, 7, 7, 7, 8, 9]"
      ]
     },
     "execution_count": 96,
     "metadata": {},
     "output_type": "execute_result"
    }
   ],
   "source": [
    "#REMOVE ---> ELIMINAR UN ELEMENTO POR VALOR \n",
    "LISTA2 = [4,5,6,7,7,7,7,7,7,7,7,8,9]\n",
    "LISTA2.remove(7)\n",
    "LISTA2"
   ]
  },
  {
   "cell_type": "code",
   "execution_count": 97,
   "id": "f92b5185",
   "metadata": {},
   "outputs": [
    {
     "data": {
      "text/plain": [
       "[8, 7, 6, 5, 4]"
      ]
     },
     "execution_count": 97,
     "metadata": {},
     "output_type": "execute_result"
    }
   ],
   "source": [
    "#REVERSE ---> REVERTIR UNA LISTA\n",
    "LISTA2 = [4,5,6,7,8]\n",
    "LISTA2.reverse()\n",
    "LISTA2"
   ]
  },
  {
   "cell_type": "code",
   "execution_count": 1,
   "id": "1f768d8f",
   "metadata": {},
   "outputs": [],
   "source": [
    "#ORDENAR UNA LISTA EN ORDEN ASCENDENTETE\n",
    "LISTA2 = [4,5,7,6,8]\n"
   ]
  },
  {
   "cell_type": "markdown",
   "id": "92982903",
   "metadata": {},
   "source": [
    "## 4.2 TUPLAS "
   ]
  },
  {
   "cell_type": "markdown",
   "id": "bb75240b",
   "metadata": {},
   "source": [
    "##### * ES UNA COLECCION DE DATOS INMUTABE\n",
    "#### * PERMITE TENER ELEMENTOS REPETIDOS \n",
    "#### * PERMITE ALMACENAR DISTINTOS TIPOS DE DATOS \n",
    "#### * CADA ELEMENTO SE LLAMA ITEM\n",
    "#### * COLOCAR LOS ELEMENTOS ENTRE () Y SEPARADOS DE POR COMAS \n"
   ]
  },
  {
   "cell_type": "code",
   "execution_count": 6,
   "id": "6341ff17",
   "metadata": {},
   "outputs": [
    {
     "name": "stdout",
     "output_type": "stream",
     "text": [
      "((1, 2, 3), (4, 5, 6), (7, 8, 9))\n",
      "2\n"
     ]
    }
   ],
   "source": [
    "# TUPLA DE TUPLAS \n",
    "TUPLA1 = (1,2,3)\n",
    "TUPLA2 = (4,5,6)\n",
    "TUPLA3 = (7,8,9)\n",
    "\n",
    "TUPLA4 = (TUPLA1 , TUPLA2 , TUPLA3)\n",
    "print(TUPLA4)\n",
    "\n",
    "print(TUPLA4[0][1])\n"
   ]
  },
  {
   "cell_type": "code",
   "execution_count": 13,
   "id": "e620366d",
   "metadata": {},
   "outputs": [
    {
     "data": {
      "text/plain": [
       "6"
      ]
     },
     "execution_count": 13,
     "metadata": {},
     "output_type": "execute_result"
    }
   ],
   "source": [
    "##COUNT ---> DEVUELVE LA CANTIDAD DE VECES QUE APARECE UN ELEMENTO\n",
    "LISTA1 = (1,2,3,3,3,3,5,6,6,6,6,6,6)\n",
    "LISTA1.count(6)"
   ]
  },
  {
   "cell_type": "code",
   "execution_count": 10,
   "id": "76ce58af",
   "metadata": {},
   "outputs": [
    {
     "data": {
      "text/plain": [
       "1"
      ]
     },
     "execution_count": 10,
     "metadata": {},
     "output_type": "execute_result"
    }
   ],
   "source": [
    "#INDEX ---> DEVUELVE EL INDICE DE DETERMINADO ELEMENTO\n",
    "TUPLA1 = (4,5,6)\n",
    "TUPLA1.index()\n"
   ]
  },
  {
   "cell_type": "markdown",
   "id": "3922ca35",
   "metadata": {},
   "source": [
    "# CONJUNTOS "
   ]
  },
  {
   "cell_type": "markdown",
   "id": "0f624994",
   "metadata": {},
   "source": [
    "##### * es una coleccion de datos que puede modificarse \n",
    "#### * no permite tener elementos repetidos \n",
    "#### * permite almacenar distintos tipos de datos \n",
    "#### * cada elemento se llama item\n",
    "#### * colocar los elementos entre {} y separados de por comas \n",
    "#### * sin importar el orden que se ingresan, se guardan ordenados y sin repetirse"
   ]
  },
  {
   "cell_type": "code",
   "execution_count": 19,
   "id": "f41506dd",
   "metadata": {},
   "outputs": [
    {
     "data": {
      "text/plain": [
       "{1, 2, 3, 4, 5, 6, 7, 8, 9, 'CHAU', False, 'HOLA'}"
      ]
     },
     "execution_count": 19,
     "metadata": {},
     "output_type": "execute_result"
    }
   ],
   "source": [
    "CONJUNTO = {6,8,5,7,4,2,3,9,8,1, True , False , \"HOLA\" , \"CHAU\"}\n",
    "CONJUNTO\n"
   ]
  },
  {
   "cell_type": "markdown",
   "id": "e169af85",
   "metadata": {},
   "source": [
    "### OPERACIONES DE ELEMENTOS"
   ]
  },
  {
   "cell_type": "markdown",
   "id": "f3afbd5f",
   "metadata": {},
   "source": [
    "##### ADD ---> AGREGAR ELEMENTOS AL CONJUNTO"
   ]
  },
  {
   "cell_type": "code",
   "execution_count": 22,
   "id": "db81abe9",
   "metadata": {},
   "outputs": [
    {
     "data": {
      "text/plain": [
       "{-10, 0, 1, 3, 4, 5, 6}"
      ]
     },
     "execution_count": 22,
     "metadata": {},
     "output_type": "execute_result"
    }
   ],
   "source": [
    "CON1 = {0,3,4,5,6,1}\n",
    "CON1.add(-10)\n",
    "CON1"
   ]
  },
  {
   "cell_type": "code",
   "execution_count": 26,
   "id": "6465192e",
   "metadata": {},
   "outputs": [
    {
     "data": {
      "text/plain": [
       "{1, 3, 4, 6}"
      ]
     },
     "execution_count": 26,
     "metadata": {},
     "output_type": "execute_result"
    }
   ],
   "source": [
    "#DISCARD ---> ELIMINAR ELEMENTOS DEL CONJUNTO\n",
    "CON1 = {0,3,4,6,1}\n",
    "CON1.discard(0)\n",
    "CON1"
   ]
  },
  {
   "cell_type": "code",
   "execution_count": 29,
   "id": "41be783a",
   "metadata": {},
   "outputs": [
    {
     "data": {
      "text/plain": [
       "set()"
      ]
     },
     "execution_count": 29,
     "metadata": {},
     "output_type": "execute_result"
    }
   ],
   "source": [
    "#CLEAR ---> ELIMINAR TODOS LOS ELEMENTOS DEL CONJUNTO\n",
    "CON1 = {1,4,5,7,9,3,6,5}\n",
    "CON1.clear()\n",
    "CON1"
   ]
  },
  {
   "cell_type": "code",
   "execution_count": 37,
   "id": "df2622c7",
   "metadata": {},
   "outputs": [
    {
     "name": "stdout",
     "output_type": "stream",
     "text": [
      "False\n",
      "True\n",
      "True\n",
      "False\n",
      "True\n"
     ]
    }
   ],
   "source": [
    "# ---> VALIDA SI ESTÁ EN EL CONJUNTO\n",
    "CON1 = {0,1,5,4,8,6,1}\n",
    "print(20 in CON1)\n",
    "print(5 in CON1)\n",
    "print(0 in CON1)\n",
    "print(3 in CON1)\n",
    "print(8 in CON1)"
   ]
  },
  {
   "cell_type": "markdown",
   "id": "2c243cdc",
   "metadata": {},
   "source": [
    "#### OPERACIONES DE CONJUNTOS\n"
   ]
  },
  {
   "cell_type": "code",
   "execution_count": 42,
   "id": "63c89829",
   "metadata": {},
   "outputs": [
    {
     "name": "stdout",
     "output_type": "stream",
     "text": [
      "set()\n",
      "set()\n"
     ]
    }
   ],
   "source": [
    "# COPIA INCORRECTA DE UN CONJUNTO\n",
    "CON1 = {1,2,3}\n",
    "CON2 = CON1\n",
    "\n",
    "CON2.clear()\n",
    "print(CON1)\n",
    "print(CON2)"
   ]
  },
  {
   "cell_type": "code",
   "execution_count": 44,
   "id": "e72aea2b",
   "metadata": {},
   "outputs": [
    {
     "name": "stdout",
     "output_type": "stream",
     "text": [
      "{1, 2, 3}\n",
      "set()\n"
     ]
    }
   ],
   "source": [
    "CON1 = {1,2,3}\n",
    "CON2 = CON1.copy()\n",
    "\n",
    "CON2.clear()\n",
    "\n",
    "print(CON1)\n",
    "print(CON2)"
   ]
  },
  {
   "cell_type": "code",
   "execution_count": 41,
   "id": "3b793fbd",
   "metadata": {},
   "outputs": [
    {
     "data": {
      "text/plain": [
       "set()"
      ]
     },
     "execution_count": 41,
     "metadata": {},
     "output_type": "execute_result"
    }
   ],
   "source": [
    "CON1"
   ]
  },
  {
   "cell_type": "code",
   "execution_count": 47,
   "id": "df17d1b1",
   "metadata": {},
   "outputs": [
    {
     "name": "stdout",
     "output_type": "stream",
     "text": [
      "[1, 2, 3, 4]\n",
      "[1, 2, 3, 4]\n"
     ]
    }
   ],
   "source": [
    "LISTA1 = [1,2,3]\n",
    "LISTA2 = LISTA1\n",
    "\n",
    "LISTA2.append(4)\n",
    "\n",
    "print(LISTA1)\n",
    "print(LISTA2)"
   ]
  },
  {
   "cell_type": "code",
   "execution_count": 57,
   "id": "c3dadf7b",
   "metadata": {},
   "outputs": [
    {
     "data": {
      "text/plain": [
       "{0, 1, 2, 3, 5, 8}"
      ]
     },
     "execution_count": 57,
     "metadata": {},
     "output_type": "execute_result"
    }
   ],
   "source": [
    "#CONVERTIR LISTA A CONJUNTO\n",
    "LISTA1 = [0,2,3,3,3,3,1,2,5,8]\n",
    "CON1 = set(LISTA1)\n",
    "CON1"
   ]
  },
  {
   "cell_type": "code",
   "execution_count": 58,
   "id": "3fcebe6b",
   "metadata": {},
   "outputs": [
    {
     "data": {
      "text/plain": [
       "{' ', '0', '1', '2', 'A', 'D', 'H', 'L', 'M', 'N', 'O', 'U', 'X', 'Y', 'Z'}"
      ]
     },
     "execution_count": 58,
     "metadata": {},
     "output_type": "execute_result"
    }
   ],
   "source": [
    "#CONVERTIR CADENA A CONJUNTO\n",
    "CADENA = \"HOLA MUNDO 2021 XYZ\"\n",
    "CON1 = set(CADENA)\n",
    "CON1"
   ]
  },
  {
   "cell_type": "code",
   "execution_count": 59,
   "id": "1a1662e7",
   "metadata": {},
   "outputs": [
    {
     "name": "stdout",
     "output_type": "stream",
     "text": [
      "True\n",
      "False\n"
     ]
    }
   ],
   "source": [
    "#COMPARACION DE VARIOS CONJUNTOS \n",
    "CON1 = {1,2,3,4,5}\n",
    "CON2 = {6,7,8}\n",
    "CON3 = {5,6,7}\n",
    "CON4 = {1,2,3}\n",
    "\n",
    "# ISDISJOINT ---> SI NO COMPARTEN ELEMENTOS \n",
    "print(CON1.isdisjoint(CON2))\n",
    "print(CON1.isdisjoint(CON3))"
   ]
  },
  {
   "cell_type": "code",
   "execution_count": 60,
   "id": "df2a10d1",
   "metadata": {},
   "outputs": [
    {
     "name": "stdout",
     "output_type": "stream",
     "text": [
      "False\n",
      "True\n"
     ]
    }
   ],
   "source": [
    "#COMPARACION DE VARIO CONJUNTOS \n",
    "CON1 = {1,2,3,4,5,}\n",
    "CON2 = {6,7,8}\n",
    "CON3 = {5,6,7}\n",
    "CON4 = {1,2,3}\n",
    "\n",
    "#ISSUBSET ----> VERIFICA SI ES CONJUNTO\n",
    "print(CON3.issubset(CON1))\n",
    "print(CON4.issubset(CON1))"
   ]
  },
  {
   "cell_type": "code",
   "execution_count": 62,
   "id": "85b5e798",
   "metadata": {},
   "outputs": [
    {
     "name": "stdout",
     "output_type": "stream",
     "text": [
      "False\n",
      "True\n"
     ]
    }
   ],
   "source": [
    "#COMPARACION DE VARIOS CONJUNTOS\n",
    "CON1 = {1,2,3,4,5}\n",
    "CON2 = {6,7,8}\n",
    "CON3 = {5,6,7}\n",
    "CON4 = {1,2,3}\n",
    "\n",
    "#ISSUPERSET ---> VERIFICA SI ES SUPERCONJUNTO\n",
    "print(CON1.issuperset(CON3))\n",
    "print(CON1.issuperset(CON4))\n",
    "\n"
   ]
  },
  {
   "cell_type": "code",
   "execution_count": 63,
   "id": "a0d8d7a8",
   "metadata": {},
   "outputs": [
    {
     "name": "stdout",
     "output_type": "stream",
     "text": [
      "{1, 2, 3, 4, 5, 6, 7, 8}\n",
      "{1, 2, 3, 5, 6, 7}\n"
     ]
    }
   ],
   "source": [
    "#OPERACIONES DE VARIOS CONJUNTOS \n",
    "CON1 = {1,2,3,4,5}\n",
    "CON2 = {6,7,8}\n",
    "CON3 = {5,6,7}\n",
    "CON4 = {1,2,3}\n",
    "\n",
    "#UNION ---> UNE 2 CONJUNTOS\n",
    "print(CON1.union(CON2))\n",
    "print(CON3.union(CON4))\n",
    "\n"
   ]
  },
  {
   "cell_type": "code",
   "execution_count": 66,
   "id": "c50a5d3c",
   "metadata": {},
   "outputs": [
    {
     "name": "stdout",
     "output_type": "stream",
     "text": [
      "{5}\n",
      "{1, 2, 3}\n"
     ]
    }
   ],
   "source": [
    "#OPERACIONES DE VARIOS CONJUNTOS\n",
    "\n",
    "CON1 = {1,2,3,4,5}\n",
    "CON2 = {6,7,8}\n",
    "CON3 = {5,6,7}\n",
    "CON4 = {1,2,3}\n",
    "\n",
    "#INSTERSECTION ---> INTERSECCION DE 2 CONJUNNTOS\n",
    "print(CON1.intersection(CON3))\n",
    "print(CON1.intersection(CON4))"
   ]
  },
  {
   "cell_type": "code",
   "execution_count": 67,
   "id": "8addd375",
   "metadata": {},
   "outputs": [
    {
     "name": "stdout",
     "output_type": "stream",
     "text": [
      "{1, 2, 3, 4}\n",
      "{6, 7}\n"
     ]
    }
   ],
   "source": [
    "#OPERACIONES DE VARIOS CONJUNTOS\n",
    "CON1 = {1,2,3,4,5}\n",
    "CON2 = {6,7,8}\n",
    "CON3 = {5,6,7}\n",
    "CON4 = {1,2,3}\n",
    "\n",
    "#DIFFERENCE ----> DIFERENCIA DE 2 CONJUNTOS\n",
    "print(CON1.difference(CON3))\n",
    "print(CON3.difference(CON1))\n"
   ]
  },
  {
   "cell_type": "code",
   "execution_count": 68,
   "id": "7d251dae",
   "metadata": {},
   "outputs": [
    {
     "name": "stdout",
     "output_type": "stream",
     "text": [
      "{1, 2, 3, 4, 6, 7}\n",
      "{1, 2, 3, 4, 6, 7}\n"
     ]
    }
   ],
   "source": [
    "#OPERACIONES DE VARIOS CONJUNTOS\n",
    "CON1 = {1,2,3,4,5}\n",
    "CON2 = {6,7,8}\n",
    "CON3 = {5,6,7}\n",
    "CON4 = {1,2,3}\n",
    "\n",
    "#SYMMETRIC_DIFFERENCE --> DIFERENCIA SIMÉTRICA DE 2 CONJUNTOS\n",
    "print(CON1.symmetric_difference(CON3))\n",
    "print(CON3.symmetric_difference(CON1))"
   ]
  },
  {
   "cell_type": "markdown",
   "id": "a70139c5",
   "metadata": {},
   "source": [
    "### PARTE 4.4 DICCIONARIOS"
   ]
  },
  {
   "cell_type": "markdown",
   "id": "7727b57f",
   "metadata": {},
   "source": [
    "##### * Es una coleccion de datos que puede modificarse\n",
    "##### * No permite tener elementos repetidos\n",
    "##### * Permite almacenar distintos tipos de datos\n",
    "##### * Cada elemento tiene una llave asociado a un valor (llaves deben ser unicas)\n",
    "##### * Colocar los elementos {}, separados por comas y dos puntos entre llaves/valor"
   ]
  },
  {
   "cell_type": "code",
   "execution_count": 87,
   "id": "e2115a7c",
   "metadata": {},
   "outputs": [],
   "source": [
    "#DICCIONARIO >>>> LLAVE : VALOR\n",
    "ANIMALES = {\"PERRO\":\"DOG\" , \"GATO\":\"CAT\" , \"ZORRO\":\"FOX\" , \"TORO\" : \"BULL\"}\n",
    "EDADES = {\"LEONEL\":\"L\" , \"JORGE\":\"E\" , \"MARIO\":\"O\" , \"NORMA\":\"N\" , \"JUAN\":\"E\" , \"LUIS\":\"L\"}\n",
    "EJEMPLO_DICT = {\"A1\":True , \"A2\":False , \"A1\":False , \"A4\" : True}"
   ]
  },
  {
   "cell_type": "code",
   "execution_count": 71,
   "id": "65a7c37f",
   "metadata": {},
   "outputs": [
    {
     "data": {
      "text/plain": [
       "{'A1': False, 'A2': False, 'A4': True}"
      ]
     },
     "execution_count": 71,
     "metadata": {},
     "output_type": "execute_result"
    }
   ],
   "source": [
    "EJEMPLO_DICT"
   ]
  },
  {
   "cell_type": "code",
   "execution_count": 73,
   "id": "e0430ae2",
   "metadata": {},
   "outputs": [
    {
     "data": {
      "text/plain": [
       "{'PERRO': 'DOG', 'GATO': 'CAT', 'ZORRO': 'FOX', 'TORO': 'BULL', 'VACA': 'COW'}"
      ]
     },
     "execution_count": 73,
     "metadata": {},
     "output_type": "execute_result"
    }
   ],
   "source": [
    "#AGREGAR ELEMENTOS A UN DICCIONARIO\n",
    "ANIMALES[\"VACA\"] = \"COW\"\n",
    "ANIMALES"
   ]
  },
  {
   "cell_type": "code",
   "execution_count": 77,
   "id": "c427beb2",
   "metadata": {},
   "outputs": [
    {
     "data": {
      "text/plain": [
       "'L'"
      ]
     },
     "execution_count": 77,
     "metadata": {},
     "output_type": "execute_result"
    }
   ],
   "source": [
    "#ACCEDER AL VALOR DE UN DICCIONARIO\n",
    "ANIMALES[\"PERRO\"] , [\"GATO\"] , [\"ZORRO\"]\n",
    "EDADES[\"LEONEL\"]\n"
   ]
  },
  {
   "cell_type": "code",
   "execution_count": 79,
   "id": "1ab857ef",
   "metadata": {},
   "outputs": [
    {
     "name": "stdout",
     "output_type": "stream",
     "text": [
      "LEONEL\n",
      "JORGE\n",
      "MARIO\n",
      "NORMA\n",
      "JUAN\n"
     ]
    }
   ],
   "source": [
    "#ACCEDER A LAS LLAVES DE UN DICCIONARIO\n",
    "for X in EDADES:\n",
    "    print(X)\n",
    "     "
   ]
  },
  {
   "cell_type": "code",
   "execution_count": 88,
   "id": "0df33c1b",
   "metadata": {},
   "outputs": [
    {
     "name": "stdout",
     "output_type": "stream",
     "text": [
      "L\n",
      "E\n",
      "O\n",
      "N\n",
      "E\n",
      "L\n"
     ]
    }
   ],
   "source": [
    "#ACCEDER A LOS VALORES DE UN DICCIONARIO\n",
    "for X in EDADES:\n",
    "    print(EDADES[X])"
   ]
  },
  {
   "cell_type": "code",
   "execution_count": 92,
   "id": "d4cbc74c",
   "metadata": {},
   "outputs": [
    {
     "name": "stdout",
     "output_type": "stream",
     "text": [
      "PERRO ------ DOG\n",
      "GATO ------ CAT\n",
      "ZORRO ------ FOX\n",
      "TORO ------ BULL\n"
     ]
    }
   ],
   "source": [
    "for LLAVE,VALOR in ANIMALES.items():\n",
    "    print(LLAVE ,\"------\", VALOR)"
   ]
  },
  {
   "cell_type": "code",
   "execution_count": 93,
   "id": "a58124eb",
   "metadata": {},
   "outputs": [
    {
     "name": "stdout",
     "output_type": "stream",
     "text": [
      "PERRO ------- DOG\n",
      "GATO ------- CAT\n",
      "ZORRO ------- FOX\n",
      "TORO ------- BULL\n"
     ]
    }
   ],
   "source": [
    "for X in ANIMALES:\n",
    "    print(X , \"-------\", ANIMALES[X])"
   ]
  },
  {
   "cell_type": "code",
   "execution_count": 101,
   "id": "02ff383b",
   "metadata": {},
   "outputs": [],
   "source": [
    "#DEL ----> ELIMINAR REGISTRO DEL DICCIONARIO\n",
    "del(ANIMALES[\"PERRO\"])\n"
   ]
  },
  {
   "cell_type": "code",
   "execution_count": 103,
   "id": "26529c4e",
   "metadata": {},
   "outputs": [
    {
     "name": "stdout",
     "output_type": "stream",
     "text": [
      "FOX\n"
     ]
    }
   ],
   "source": [
    "#GET ----> OBTENER EL VALOR\n",
    "print(ANIMALES.get(\"ZORRO\"))\n"
   ]
  },
  {
   "cell_type": "code",
   "execution_count": 104,
   "id": "e76cfa98",
   "metadata": {},
   "outputs": [
    {
     "data": {
      "text/plain": [
       "dict_keys(['GATO', 'ZORRO', 'TORO'])"
      ]
     },
     "execution_count": 104,
     "metadata": {},
     "output_type": "execute_result"
    }
   ],
   "source": [
    "#KEYS ----> ACCESO A LLAVES\n",
    "ANIMALES.keys()\n"
   ]
  },
  {
   "cell_type": "code",
   "execution_count": 105,
   "id": "09646db8",
   "metadata": {},
   "outputs": [
    {
     "data": {
      "text/plain": [
       "dict_values(['CAT', 'FOX', 'BULL'])"
      ]
     },
     "execution_count": 105,
     "metadata": {},
     "output_type": "execute_result"
    }
   ],
   "source": [
    "#VALUES ---> ACCESO A VALORES\n",
    "ANIMALES.values()\n"
   ]
  },
  {
   "cell_type": "code",
   "execution_count": 110,
   "id": "3bf4b666",
   "metadata": {},
   "outputs": [
    {
     "data": {
      "text/plain": [
       "dict_items([])"
      ]
     },
     "execution_count": 110,
     "metadata": {},
     "output_type": "execute_result"
    }
   ],
   "source": [
    "#ITEMS -----> ACCESO A LLAVES Y VALORES\n",
    "ANIMALES.items()"
   ]
  },
  {
   "cell_type": "code",
   "execution_count": 111,
   "id": "2867cb32",
   "metadata": {},
   "outputs": [],
   "source": [
    "#CLEAR -----> ELIMINA TODOS LOS REGISTROS \n",
    "ANIMALES.clear()"
   ]
  },
  {
   "cell_type": "code",
   "execution_count": 113,
   "id": "9520c1eb",
   "metadata": {},
   "outputs": [],
   "source": [
    "#DEFAULT DICT ----> DICCIONARIO CON VALORES CON DEFECTO\n",
    "from collections import defaultdict\n",
    "\n",
    "ANIMALES_DEFAULT = {}\n",
    "ANIMALES_DEFAULT = defaultdict(str)\n",
    "\n",
    "ANIMALES_DEFAULT[\"GATO\"] = \"CAT\""
   ]
  },
  {
   "cell_type": "code",
   "execution_count": 114,
   "id": "a79bc90e",
   "metadata": {},
   "outputs": [
    {
     "data": {
      "text/plain": [
       "defaultdict(str, {'GATO': 'CAT'})"
      ]
     },
     "execution_count": 114,
     "metadata": {},
     "output_type": "execute_result"
    }
   ],
   "source": [
    "ANIMALES_DEFAULT"
   ]
  },
  {
   "cell_type": "code",
   "execution_count": null,
   "id": "872c29e1",
   "metadata": {},
   "outputs": [],
   "source": []
  },
  {
   "cell_type": "code",
   "execution_count": null,
   "id": "00fd6e1b",
   "metadata": {},
   "outputs": [],
   "source": []
  },
  {
   "cell_type": "code",
   "execution_count": null,
   "id": "c37e4569",
   "metadata": {},
   "outputs": [],
   "source": []
  },
  {
   "cell_type": "code",
   "execution_count": null,
   "id": "d9a154fe",
   "metadata": {},
   "outputs": [],
   "source": []
  },
  {
   "cell_type": "code",
   "execution_count": null,
   "id": "c33fa91c",
   "metadata": {},
   "outputs": [],
   "source": []
  },
  {
   "cell_type": "code",
   "execution_count": null,
   "id": "adb67bae",
   "metadata": {},
   "outputs": [],
   "source": []
  },
  {
   "cell_type": "code",
   "execution_count": null,
   "id": "dbaad113",
   "metadata": {},
   "outputs": [],
   "source": []
  },
  {
   "cell_type": "code",
   "execution_count": null,
   "id": "cc380f63",
   "metadata": {},
   "outputs": [],
   "source": []
  },
  {
   "cell_type": "code",
   "execution_count": null,
   "id": "9604bdb2",
   "metadata": {},
   "outputs": [],
   "source": []
  },
  {
   "cell_type": "code",
   "execution_count": null,
   "id": "f688762a",
   "metadata": {},
   "outputs": [],
   "source": []
  }
 ],
 "metadata": {
  "kernelspec": {
   "display_name": "Python 3 (ipykernel)",
   "language": "python",
   "name": "python3"
  },
  "language_info": {
   "codemirror_mode": {
    "name": "ipython",
    "version": 3
   },
   "file_extension": ".py",
   "mimetype": "text/x-python",
   "name": "python",
   "nbconvert_exporter": "python",
   "pygments_lexer": "ipython3",
   "version": "3.9.7"
  }
 },
 "nbformat": 4,
 "nbformat_minor": 5
}
