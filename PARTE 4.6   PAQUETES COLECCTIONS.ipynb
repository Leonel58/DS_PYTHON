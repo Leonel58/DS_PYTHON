{
 "cells": [
  {
   "cell_type": "markdown",
   "id": "cca88abe",
   "metadata": {},
   "source": [
    "### COLECCION DE PAQUETES "
   ]
  },
  {
   "cell_type": "code",
   "execution_count": 1,
   "id": "c2e17788",
   "metadata": {},
   "outputs": [],
   "source": [
    "LISTA = [1,1,1,11,2,2,2,23,3,3,4,5,]\n",
    "PALABRA = \"PYTHON2021\"\n",
    "TEXTO = \"PYTHON PYTHON PYTHON PYTHON PYTHON PYTHON PYTHON HOLA HOLA HOLA CHAU CHAY\""
   ]
  },
  {
   "cell_type": "code",
   "execution_count": 12,
   "id": "ab56fd2c",
   "metadata": {},
   "outputs": [],
   "source": [
    "from collections import Counter "
   ]
  },
  {
   "cell_type": "code",
   "execution_count": 13,
   "id": "f44d999a",
   "metadata": {},
   "outputs": [
    {
     "data": {
      "text/plain": [
       "Counter({1: 3, 11: 1, 2: 3, 23: 1, 3: 2, 4: 1, 5: 1})"
      ]
     },
     "execution_count": 13,
     "metadata": {},
     "output_type": "execute_result"
    }
   ],
   "source": [
    "#CONTEO DE UNA LISTA\n",
    "\n",
    "Counter(LISTA)"
   ]
  },
  {
   "cell_type": "code",
   "execution_count": 14,
   "id": "68aff880",
   "metadata": {},
   "outputs": [
    {
     "data": {
      "text/plain": [
       "Counter({'P': 1,\n",
       "         'Y': 1,\n",
       "         'T': 1,\n",
       "         'H': 1,\n",
       "         'O': 1,\n",
       "         'N': 1,\n",
       "         '2': 2,\n",
       "         '0': 1,\n",
       "         '1': 1})"
      ]
     },
     "execution_count": 14,
     "metadata": {},
     "output_type": "execute_result"
    }
   ],
   "source": [
    "#CONTEO DE UNA CADENA \n",
    "Counter(PALABRA)\n"
   ]
  },
  {
   "cell_type": "code",
   "execution_count": 16,
   "id": "a105410b",
   "metadata": {},
   "outputs": [
    {
     "data": {
      "text/plain": [
       "Counter({'P': 7,\n",
       "         'Y': 8,\n",
       "         'T': 7,\n",
       "         'H': 12,\n",
       "         'O': 10,\n",
       "         'N': 7,\n",
       "         ' ': 11,\n",
       "         'L': 3,\n",
       "         'A': 5,\n",
       "         'C': 2,\n",
       "         'U': 1})"
      ]
     },
     "execution_count": 16,
     "metadata": {},
     "output_type": "execute_result"
    }
   ],
   "source": [
    "#CONTEO DE UN TEXTO\n",
    "Counter(TEXTO)"
   ]
  },
  {
   "cell_type": "code",
   "execution_count": 17,
   "id": "1c77bbb3",
   "metadata": {},
   "outputs": [
    {
     "data": {
      "text/plain": [
       "Counter({'PYTHON': 7, 'HOLA': 3, 'CHAU': 1, 'CHAY': 1})"
      ]
     },
     "execution_count": 17,
     "metadata": {},
     "output_type": "execute_result"
    }
   ],
   "source": [
    "#CONTEO EN UN TEXTO \n",
    "Counter(TEXTO.split())"
   ]
  },
  {
   "cell_type": "code",
   "execution_count": 20,
   "id": "1843c09d",
   "metadata": {},
   "outputs": [
    {
     "name": "stdout",
     "output_type": "stream",
     "text": [
      "Counter({1: 3, 2: 3, 3: 2, 11: 1, 23: 1, 4: 1, 5: 1})\n",
      "[(1, 3), (2, 3)]\n"
     ]
    }
   ],
   "source": [
    "#CONTEO DE UNA LISTA\n",
    "print(Counter(LISTA))\n",
    "print(Counter(LISTA).most_common(2))\n"
   ]
  },
  {
   "cell_type": "code",
   "execution_count": 21,
   "id": "2e1ae669",
   "metadata": {},
   "outputs": [
    {
     "name": "stdout",
     "output_type": "stream",
     "text": [
      "Counter({'2': 2, 'P': 1, 'Y': 1, 'T': 1, 'H': 1, 'O': 1, 'N': 1, '0': 1, '1': 1})\n",
      "Counter({'2': 2, 'P': 1, 'Y': 1, 'T': 1, 'H': 1, 'O': 1, 'N': 1, '0': 1, '1': 1})\n"
     ]
    }
   ],
   "source": [
    "#CONTEO EN UNA CADENA\n",
    "print(Counter(PALABRA))\n",
    "print(Counter(PALABRA))\n"
   ]
  },
  {
   "cell_type": "code",
   "execution_count": 22,
   "id": "026f2d83",
   "metadata": {},
   "outputs": [
    {
     "name": "stdout",
     "output_type": "stream",
     "text": [
      "Counter({'H': 12, ' ': 11, 'O': 10, 'Y': 8, 'P': 7, 'T': 7, 'N': 7, 'A': 5, 'L': 3, 'C': 2, 'U': 1})\n",
      "[('H', 12), (' ', 11)]\n"
     ]
    }
   ],
   "source": [
    "#CONTEO EN UN TEXTO\n",
    "print(Counter(TEXTO))\n",
    "print(Counter(TEXTO).most_common(2))\n"
   ]
  },
  {
   "cell_type": "code",
   "execution_count": 23,
   "id": "2bdc649e",
   "metadata": {},
   "outputs": [
    {
     "name": "stdout",
     "output_type": "stream",
     "text": [
      "Counter({'PYTHON': 7, 'HOLA': 3, 'CHAU': 1, 'CHAY': 1})\n",
      "[('PYTHON', 7), ('HOLA', 3)]\n"
     ]
    }
   ],
   "source": [
    "#CONTEO EN UN TEXTO\n",
    "print(Counter(TEXTO.split()))\n",
    "print(Counter(TEXTO.split()).most_common(2))\n"
   ]
  },
  {
   "cell_type": "code",
   "execution_count": null,
   "id": "f772cd1a",
   "metadata": {},
   "outputs": [],
   "source": []
  },
  {
   "cell_type": "code",
   "execution_count": null,
   "id": "a7b8992d",
   "metadata": {},
   "outputs": [],
   "source": [
    "\n"
   ]
  }
 ],
 "metadata": {
  "kernelspec": {
   "display_name": "Python 3 (ipykernel)",
   "language": "python",
   "name": "python3"
  },
  "language_info": {
   "codemirror_mode": {
    "name": "ipython",
    "version": 3
   },
   "file_extension": ".py",
   "mimetype": "text/x-python",
   "name": "python",
   "nbconvert_exporter": "python",
   "pygments_lexer": "ipython3",
   "version": "3.9.7"
  }
 },
 "nbformat": 4,
 "nbformat_minor": 5
}
