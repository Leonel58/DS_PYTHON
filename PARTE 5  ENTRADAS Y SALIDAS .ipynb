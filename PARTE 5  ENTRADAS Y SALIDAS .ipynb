{
 "cells": [
  {
   "cell_type": "markdown",
   "id": "4ce75715",
   "metadata": {},
   "source": [
    "#### PARTE 5: ENTRADAS Y SALIDAS "
   ]
  },
  {
   "cell_type": "code",
   "execution_count": 1,
   "id": "661f8a2e",
   "metadata": {},
   "outputs": [
    {
     "name": "stdout",
     "output_type": "stream",
     "text": [
      "Ingresa tu nombre: Leon\n"
     ]
    }
   ],
   "source": [
    "#INGRESAR CADENA \n",
    "\n",
    "ENTRADA = input(\"Ingresa tu nombre: \")"
   ]
  },
  {
   "cell_type": "code",
   "execution_count": 11,
   "id": "7fabeeaf",
   "metadata": {},
   "outputs": [
    {
     "name": "stdout",
     "output_type": "stream",
     "text": [
      "Ingresa tu edad: 20\n"
     ]
    }
   ],
   "source": [
    "#INGRESAR ENTERO\n",
    "\n",
    "ENTRADA_NUM = int(input(\"Ingresa tu edad: \"))"
   ]
  },
  {
   "cell_type": "code",
   "execution_count": 8,
   "id": "3810f459",
   "metadata": {},
   "outputs": [
    {
     "data": {
      "text/plain": [
       "25"
      ]
     },
     "execution_count": 8,
     "metadata": {},
     "output_type": "execute_result"
    }
   ],
   "source": [
    "ENTRADA_NUM + 5"
   ]
  },
  {
   "cell_type": "code",
   "execution_count": 12,
   "id": "24c39c7d",
   "metadata": {},
   "outputs": [
    {
     "name": "stdout",
     "output_type": "stream",
     "text": [
      "Ingresa tu nota: 45.3\n"
     ]
    }
   ],
   "source": [
    "#INGRESAR DECIMAL\n",
    "ENTRADA_NUM = float(input(\"Ingresa tu nota: \"))"
   ]
  },
  {
   "cell_type": "markdown",
   "id": "5607e6c6",
   "metadata": {},
   "source": [
    "### PARTE 5 \"SALIDAS\""
   ]
  },
  {
   "cell_type": "code",
   "execution_count": 15,
   "id": "81104750",
   "metadata": {},
   "outputs": [
    {
     "name": "stdout",
     "output_type": "stream",
     "text": [
      "El numero es 27  y el decimal es 3.14 ademas el texto es MUNDO\n"
     ]
    }
   ],
   "source": [
    "ENTERO = 27\n",
    "DECIMAL = 3.14\n",
    "CADENA = \"MUNDO\"\n",
    "\n",
    "print(\"El numero es\", ENTERO, \" y el decimal es\",DECIMAL,\"ademas el texto es\", CADENA)"
   ]
  },
  {
   "cell_type": "code",
   "execution_count": 19,
   "id": "d191f9b2",
   "metadata": {},
   "outputs": [
    {
     "name": "stdout",
     "output_type": "stream",
     "text": [
      "El numero es 27  y el decimal es 3.14 ademas el texto es MUNDO\n"
     ]
    }
   ],
   "source": [
    "print(\"El numero es {}  y el decimal es {} ademas el texto es {}\".format(ENTERO,DECIMAL,CADENA))"
   ]
  },
  {
   "cell_type": "markdown",
   "id": "873d62b3",
   "metadata": {},
   "source": [
    "### FORMATEO MEDIANTE INDICES"
   ]
  },
  {
   "cell_type": "code",
   "execution_count": 25,
   "id": "9b84f18c",
   "metadata": {},
   "outputs": [
    {
     "name": "stdout",
     "output_type": "stream",
     "text": [
      "hola soy LEONEL y te quiero decir QUÉ TAL? \n",
      "hola soy LEONEL y te quiero decir QUÉ TAL? \n",
      "hola soy QUÉ TAL?  y te quiero decir LEONEL\n",
      "hola soy LEONEL y te quiero decir QUÉ TAL? \n",
      "hola soy LEONEL y te quiero decir LEONEL\n"
     ]
    }
   ],
   "source": [
    "C1 = \"LEONEL\"\n",
    "C2 = \"QUÉ TAL? \"\n",
    "\n",
    "print(\"hola soy\",C1,\"y te quiero decir\",C2)\n",
    "print(\"hola soy {} y te quiero decir {}\".format(C1,C2))\n",
    "print(\"hola soy {1} y te quiero decir {0}\".format(C1,C2))\n",
    "print(\"hola soy {0} y te quiero decir {1}\".format(C1,C2))\n",
    "print(\"hola soy {0} y te quiero decir {0}\".format(C1,C2))\n"
   ]
  },
  {
   "cell_type": "markdown",
   "id": "12cabd9e",
   "metadata": {},
   "source": [
    "### FORMATEO MEDIANTE CLAVES"
   ]
  },
  {
   "cell_type": "code",
   "execution_count": 27,
   "id": "0462b428",
   "metadata": {},
   "outputs": [
    {
     "name": "stdout",
     "output_type": "stream",
     "text": [
      "hola soy LEONEL y te quiero decir QUÉ TAL? \n",
      "hola soy LEONEL y te quiero decir QUÉ TAL? \n",
      "hola soy QUÉ TAL?  y te quiero decir LEONEL\n",
      "hola soy LEONEL y te quiero decir LEONEL\n",
      "hola soy QUÉ TAL?  y te quiero decir QUÉ TAL? \n"
     ]
    }
   ],
   "source": [
    "C1 = \"LEONEL\"\n",
    "C2 = \"QUÉ TAL? \"\n",
    "\n",
    "print(\"hola soy\",C1,\"y te quiero decir\",C2)\n",
    "#print(\"Hola soy {} y te quiero decir {}\".format(NOM = C1, SAL = C1))\n",
    "print(\"hola soy {NOM} y te quiero decir {SAL}\".format(NOM = C1, SAL = C2))\n",
    "print(\"hola soy {SAL} y te quiero decir {NOM}\".format(NOM = C1, SAL = C2))\n",
    "print(\"hola soy {NOM} y te quiero decir {NOM}\".format(NOM = C1, SAL = C2))\n",
    "print(\"hola soy {SAL} y te quiero decir {SAL}\".format(NOM = C1, SAL = C2))\n"
   ]
  },
  {
   "cell_type": "markdown",
   "id": "905cc08e",
   "metadata": {},
   "source": [
    "### ALINEACIÓN"
   ]
  },
  {
   "cell_type": "code",
   "execution_count": 32,
   "id": "15e4d89a",
   "metadata": {},
   "outputs": [
    {
     "name": "stdout",
     "output_type": "stream",
     "text": [
      "HOLA MUNDO\n",
      "                                                                                          HOLA MUNDO\n"
     ]
    }
   ],
   "source": [
    "#ALINEAR A LA DERECHA EN \"N\" CARACTERES\n",
    "print(\"HOLA MUNDO\")\n",
    "print(\"{:>100}\".format(\"HOLA MUNDO\"))"
   ]
  },
  {
   "cell_type": "code",
   "execution_count": 35,
   "id": "ebf0e8ce",
   "metadata": {},
   "outputs": [
    {
     "name": "stdout",
     "output_type": "stream",
     "text": [
      "HOLA MUNDO\n",
      "HOLA MUNDO                                        \n"
     ]
    }
   ],
   "source": [
    "#ALINEAR A LA IZQUIERDA EN \"N\" CARACTERES\n",
    "print(\"HOLA MUNDO\")\n",
    "print(\"{:<50}\".format(\"HOLA MUNDO\"))"
   ]
  },
  {
   "cell_type": "code",
   "execution_count": 38,
   "id": "e619f75e",
   "metadata": {},
   "outputs": [
    {
     "name": "stdout",
     "output_type": "stream",
     "text": [
      "HOLA MUNDO\n",
      "                              HOLA MUNDO                              \n"
     ]
    }
   ],
   "source": [
    "#ALINEAR AL CENTRO EN \"N\" CARACTERES\n",
    "print(\"HOLA MUNDO\")\n",
    "print(\"{:^70}\".format(\"HOLA MUNDO\"))"
   ]
  },
  {
   "cell_type": "markdown",
   "id": "ed24d967",
   "metadata": {},
   "source": [
    "### TRUNCAMIENTO"
   ]
  },
  {
   "cell_type": "code",
   "execution_count": 41,
   "id": "c9ac5c74",
   "metadata": {},
   "outputs": [
    {
     "name": "stdout",
     "output_type": "stream",
     "text": [
      "HOLA MUNDO\n",
      "HOLA MUN\n"
     ]
    }
   ],
   "source": [
    "#TRUNCAMIENTO EN \"N\" CARACTERES\n",
    "print(\"HOLA MUNDO\")\n",
    "print(\"{:.8}\".format(\"HOLA MUNDO\"))\n"
   ]
  },
  {
   "cell_type": "markdown",
   "id": "3363ab10",
   "metadata": {},
   "source": [
    "### ALINEACION Y TRUNCAMIENTO"
   ]
  },
  {
   "cell_type": "code",
   "execution_count": 51,
   "id": "020c9f4e",
   "metadata": {},
   "outputs": [
    {
     "name": "stdout",
     "output_type": "stream",
     "text": [
      "HOLA MUNDO\n",
      "                                                                 HOLA \n"
     ]
    }
   ],
   "source": [
    "print(\"HOLA MUNDO\")\n",
    "print(\"{:>70.5}\".format(\"HOLA MUNDO\"))"
   ]
  },
  {
   "cell_type": "code",
   "execution_count": 56,
   "id": "6ea2023d",
   "metadata": {},
   "outputs": [
    {
     "name": "stdout",
     "output_type": "stream",
     "text": [
      "99\n",
      "1234567\n",
      "1000\n",
      "_____________\n",
      "     99\n",
      "1234567\n",
      "   1000\n"
     ]
    }
   ],
   "source": [
    "print(\"99\")\n",
    "print(\"1234567\")\n",
    "print(\"1000\")\n",
    "print(\"_____________\")\n",
    "print(\"     99\")\n",
    "print(\"1234567\")\n",
    "print(\"   1000\")"
   ]
  },
  {
   "cell_type": "code",
   "execution_count": 58,
   "id": "71ff3ef8",
   "metadata": {},
   "outputs": [
    {
     "name": "stdout",
     "output_type": "stream",
     "text": [
      "     99\n",
      "1234567\n",
      "   1000\n",
      "0000000099\n",
      "0001234567\n",
      "0000001000\n"
     ]
    }
   ],
   "source": [
    "print(\"{:7d}\".format(99))\n",
    "print(\"{:7d}\".format(1234567))\n",
    "print(\"{:7d}\".format(1000))\n",
    "\n",
    "print(\"{:010d}\".format(99))\n",
    "print(\"{:010d}\".format(1234567))\n",
    "print(\"{:010d}\".format(1000))"
   ]
  },
  {
   "cell_type": "code",
   "execution_count": 62,
   "id": "f6fd1211",
   "metadata": {},
   "outputs": [
    {
     "name": "stdout",
     "output_type": "stream",
     "text": [
      "99.3258\n",
      "1234567.25878472\n",
      "1000.32178\n",
      "------------\n",
      "        99.3258\n",
      "   1234567.2588\n",
      "      1000.3218\n"
     ]
    }
   ],
   "source": [
    "### ALINEACION CON DECIMALES \n",
    "print(\"99.3258\")\n",
    "print(\"1234567.25878472\")\n",
    "print(\"1000.32178\")\n",
    "\n",
    "print(\"------------\")\n",
    "\n",
    "print(\"{:>15.4f}\".format(99.3258))\n",
    "print(\"{:>15.4f}\".format(1234567.25878472))\n",
    "print(\"{:>15.4f}\".format(1000.32178))"
   ]
  },
  {
   "cell_type": "code",
   "execution_count": null,
   "id": "a3d4661d",
   "metadata": {},
   "outputs": [],
   "source": []
  },
  {
   "cell_type": "code",
   "execution_count": null,
   "id": "634b5216",
   "metadata": {},
   "outputs": [],
   "source": []
  },
  {
   "cell_type": "code",
   "execution_count": null,
   "id": "06fc33af",
   "metadata": {},
   "outputs": [],
   "source": []
  },
  {
   "cell_type": "code",
   "execution_count": null,
   "id": "41c1667e",
   "metadata": {},
   "outputs": [],
   "source": []
  },
  {
   "cell_type": "code",
   "execution_count": null,
   "id": "078e0e27",
   "metadata": {},
   "outputs": [],
   "source": []
  },
  {
   "cell_type": "code",
   "execution_count": null,
   "id": "83d3133f",
   "metadata": {},
   "outputs": [],
   "source": []
  },
  {
   "cell_type": "code",
   "execution_count": null,
   "id": "f0a4200f",
   "metadata": {},
   "outputs": [],
   "source": []
  }
 ],
 "metadata": {
  "kernelspec": {
   "display_name": "Python 3 (ipykernel)",
   "language": "python",
   "name": "python3"
  },
  "language_info": {
   "codemirror_mode": {
    "name": "ipython",
    "version": 3
   },
   "file_extension": ".py",
   "mimetype": "text/x-python",
   "name": "python",
   "nbconvert_exporter": "python",
   "pygments_lexer": "ipython3",
   "version": "3.9.7"
  }
 },
 "nbformat": 4,
 "nbformat_minor": 5
}
