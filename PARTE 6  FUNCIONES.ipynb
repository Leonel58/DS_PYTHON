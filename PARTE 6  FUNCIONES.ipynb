{
 "cells": [
  {
   "cell_type": "markdown",
   "id": "b62ca3ee",
   "metadata": {},
   "source": [
    "### PARTE 6.1 DEFINICION DE FUNCIONES \n",
    "\n",
    "###### * sintaxis"
   ]
  },
  {
   "cell_type": "code",
   "execution_count": 3,
   "id": "ee5df872",
   "metadata": {},
   "outputs": [],
   "source": [
    "def FUNCION_PRUEBA ():\n",
    "    print(\"HOLA MUNDO\")"
   ]
  },
  {
   "cell_type": "code",
   "execution_count": 4,
   "id": "a3e0226a",
   "metadata": {},
   "outputs": [
    {
     "name": "stdout",
     "output_type": "stream",
     "text": [
      "HOLA MUNDO\n"
     ]
    }
   ],
   "source": [
    "#INVOCACION \n",
    "FUNCION_PRUEBA()"
   ]
  },
  {
   "cell_type": "markdown",
   "id": "77d62f56",
   "metadata": {},
   "source": [
    "#### ÁMBITO DE VARIABLES - DEFINIR UNA VARIABLE DENTRO DE FUNCIÓN"
   ]
  },
  {
   "cell_type": "code",
   "execution_count": 11,
   "id": "60db66a3",
   "metadata": {},
   "outputs": [],
   "source": [
    "def AMBITO1 ():\n",
    "   VAR1 = 10\n"
   ]
  },
  {
   "cell_type": "code",
   "execution_count": 9,
   "id": "c18fc0ec",
   "metadata": {},
   "outputs": [],
   "source": [
    "print(VAR1)"
   ]
  },
  {
   "cell_type": "markdown",
   "id": "34295886",
   "metadata": {},
   "source": [
    "##### ÁMBITO DE VARIABLES - DEFINIR UNA VARIABLE FUERA DE FUNCIÓN"
   ]
  },
  {
   "cell_type": "code",
   "execution_count": 6,
   "id": "caf05945",
   "metadata": {},
   "outputs": [],
   "source": [
    "def AMBITO2 ():\n",
    "    print(VAR2)"
   ]
  },
  {
   "cell_type": "code",
   "execution_count": 7,
   "id": "3d8fc633",
   "metadata": {},
   "outputs": [
    {
     "name": "stdout",
     "output_type": "stream",
     "text": [
      "10\n"
     ]
    }
   ],
   "source": [
    "VAR2 = 10\n",
    "AMBITO2()"
   ]
  },
  {
   "cell_type": "markdown",
   "id": "ea48a723",
   "metadata": {},
   "source": [
    "#### AMBITO DE VARIABLE - MODIFICAR UNA VARIABLE DENTRO DE UNA FUNCION (INCORRECTO)"
   ]
  },
  {
   "cell_type": "code",
   "execution_count": 17,
   "id": "860a73b9",
   "metadata": {},
   "outputs": [],
   "source": [
    "def AMBITO3():\n",
    "    VAR3 = 5"
   ]
  },
  {
   "cell_type": "code",
   "execution_count": 20,
   "id": "beb8b365",
   "metadata": {},
   "outputs": [
    {
     "name": "stdout",
     "output_type": "stream",
     "text": [
      "10\n"
     ]
    }
   ],
   "source": [
    "VAR3 = 10\n",
    "AMBITO3()\n",
    "print(VAR3)\n"
   ]
  },
  {
   "cell_type": "markdown",
   "id": "ba846c84",
   "metadata": {},
   "source": [
    "#### ÁMBITO DE VARIABLES - MODIFICAR UNA VARIABLE DENTRO DE FUNCIÓN (CORRECTA)"
   ]
  },
  {
   "cell_type": "code",
   "execution_count": 4,
   "id": "0e300521",
   "metadata": {},
   "outputs": [],
   "source": [
    "def AMBITO4():\n",
    "    global VAR4\n",
    "    VAR4 = 5"
   ]
  },
  {
   "cell_type": "code",
   "execution_count": 5,
   "id": "e30e7b05",
   "metadata": {},
   "outputs": [
    {
     "name": "stdout",
     "output_type": "stream",
     "text": [
      "5\n"
     ]
    }
   ],
   "source": [
    "VAR4 = 10\n",
    "AMBITO4()\n",
    "print(VAR4)\n"
   ]
  },
  {
   "cell_type": "markdown",
   "id": "e7e311d9",
   "metadata": {},
   "source": [
    "### 6.2 RETORNO DE UNA FUNCION\n",
    "\n",
    "######    ----------------------- FUNCION SIN RETORNO  ------------------------\n",
    "\n",
    "###### * no tiene la palabra  \"return\"\n",
    "###### * el resultado no se puede asignar a una variable"
   ]
  },
  {
   "cell_type": "code",
   "execution_count": 11,
   "id": "3b1f270f",
   "metadata": {},
   "outputs": [],
   "source": [
    "def PRUEBA ():\n",
    "    print(\"HOLA MUNDO\")\n",
    "    "
   ]
  },
  {
   "cell_type": "code",
   "execution_count": 16,
   "id": "30225fe8",
   "metadata": {},
   "outputs": [
    {
     "name": "stdout",
     "output_type": "stream",
     "text": [
      "HOLA MUNDO\n"
     ]
    }
   ],
   "source": [
    "VARIABLE = PRUEBA ()\n"
   ]
  },
  {
   "cell_type": "markdown",
   "id": "dc841398",
   "metadata": {},
   "source": [
    "#### FUNCION CON RETORNO \n",
    "###### * si tiene una palabra return\n",
    "###### * El resultado se puede asignar a una variable"
   ]
  },
  {
   "cell_type": "code",
   "execution_count": 17,
   "id": "c538ffb0",
   "metadata": {},
   "outputs": [],
   "source": [
    "def PRUEBA2 ():\n",
    "    return (\"HOLA MUNDO\")\n"
   ]
  },
  {
   "cell_type": "code",
   "execution_count": 18,
   "id": "38e12305",
   "metadata": {},
   "outputs": [],
   "source": [
    "VARIABLE = PRUEBA2 ()"
   ]
  },
  {
   "cell_type": "code",
   "execution_count": 22,
   "id": "0fe260fd",
   "metadata": {},
   "outputs": [
    {
     "data": {
      "text/plain": [
       "'HOLA MUNDO'"
      ]
     },
     "execution_count": 22,
     "metadata": {},
     "output_type": "execute_result"
    }
   ],
   "source": [
    "PRUEBA2()"
   ]
  },
  {
   "cell_type": "markdown",
   "id": "84787ba0",
   "metadata": {},
   "source": [
    "#### FUNCIÓN CON SOLO 1 RETORNO"
   ]
  },
  {
   "cell_type": "code",
   "execution_count": 25,
   "id": "0863eb5b",
   "metadata": {},
   "outputs": [],
   "source": [
    "def FUNC_CADENA():\n",
    "    return \"HOLA\"\n",
    "\n",
    "def FUNC_INT():\n",
    "    return 30\n",
    "\n",
    "def FUNC_FLOAD():\n",
    "    return 50.2548\n",
    "\n",
    "def FUNC_LIST():\n",
    "    return [1,2,3,4,5,6,7,8,9]\n",
    "\n"
   ]
  },
  {
   "cell_type": "code",
   "execution_count": 27,
   "id": "9209f1fc",
   "metadata": {},
   "outputs": [
    {
     "data": {
      "text/plain": [
       "'HOLA'"
      ]
     },
     "execution_count": 27,
     "metadata": {},
     "output_type": "execute_result"
    }
   ],
   "source": [
    "V1 = FUNC_CADENA()\n",
    "V1"
   ]
  },
  {
   "cell_type": "code",
   "execution_count": 28,
   "id": "69d85ed4",
   "metadata": {},
   "outputs": [
    {
     "data": {
      "text/plain": [
       "30"
      ]
     },
     "execution_count": 28,
     "metadata": {},
     "output_type": "execute_result"
    }
   ],
   "source": [
    "V2 = FUNC_INT()\n",
    "V2"
   ]
  },
  {
   "cell_type": "code",
   "execution_count": 29,
   "id": "2b2909f6",
   "metadata": {},
   "outputs": [
    {
     "data": {
      "text/plain": [
       "50.2548"
      ]
     },
     "execution_count": 29,
     "metadata": {},
     "output_type": "execute_result"
    }
   ],
   "source": [
    "V3 = FUNC_FLOAD()\n",
    "V3"
   ]
  },
  {
   "cell_type": "code",
   "execution_count": 30,
   "id": "e7e0a12c",
   "metadata": {},
   "outputs": [
    {
     "data": {
      "text/plain": [
       "[1, 2, 3, 4, 5, 6, 7, 8, 9]"
      ]
     },
     "execution_count": 30,
     "metadata": {},
     "output_type": "execute_result"
    }
   ],
   "source": [
    "V4 = FUNC_LIST()\n",
    "V4"
   ]
  },
  {
   "cell_type": "code",
   "execution_count": 41,
   "id": "5ae33bef",
   "metadata": {},
   "outputs": [
    {
     "name": "stdout",
     "output_type": "stream",
     "text": [
      "HOLA , 30 , 50.2548 , [1, 2, 3, 4, 5, 6, 7, 8, 9]\n"
     ]
    }
   ],
   "source": [
    "print(V1, \",\", V2, \",\", V3, \",\", V4)"
   ]
  },
  {
   "cell_type": "markdown",
   "id": "a8983f67",
   "metadata": {},
   "source": [
    "#### FUNCION CON VARIOS RETORNOS"
   ]
  },
  {
   "cell_type": "code",
   "execution_count": 43,
   "id": "a7012275",
   "metadata": {},
   "outputs": [],
   "source": [
    "def VARIOS ():\n",
    "    return [1,2,3,4,5,6,7,8,9,] , 30 , 50.65 , True , \"HOLA\""
   ]
  },
  {
   "cell_type": "markdown",
   "id": "f2f20a3f",
   "metadata": {},
   "source": [
    "###### PRINT CON VARIAS VARIABLES"
   ]
  },
  {
   "cell_type": "code",
   "execution_count": 44,
   "id": "15379359",
   "metadata": {},
   "outputs": [],
   "source": [
    "V1 , V2 , V3 , V4 , V5 = VARIOS ()"
   ]
  },
  {
   "cell_type": "code",
   "execution_count": 51,
   "id": "7f1e2a7f",
   "metadata": {},
   "outputs": [
    {
     "name": "stdout",
     "output_type": "stream",
     "text": [
      "[1, 2, 3, 4, 5, 6, 7, 8, 9] , 30 , True , HOLA\n"
     ]
    }
   ],
   "source": [
    "print(V1, \",\", V2, \",\", V4, \",\", V5)"
   ]
  },
  {
   "cell_type": "markdown",
   "id": "96b3af94",
   "metadata": {},
   "source": [
    "###### PRIN CON UNA SOLA VARIABLE"
   ]
  },
  {
   "cell_type": "code",
   "execution_count": 82,
   "id": "f00aa99f",
   "metadata": {},
   "outputs": [],
   "source": [
    "P5 = VARIOS ()"
   ]
  },
  {
   "cell_type": "code",
   "execution_count": 83,
   "id": "af0657cb",
   "metadata": {},
   "outputs": [
    {
     "data": {
      "text/plain": [
       "([1, 2, 3, 4, 5, 6, 7, 8, 9], 30, 50.65, True, 'HOLA')"
      ]
     },
     "execution_count": 83,
     "metadata": {},
     "output_type": "execute_result"
    }
   ],
   "source": [
    "P5\n"
   ]
  },
  {
   "cell_type": "code",
   "execution_count": 92,
   "id": "7f56fd58",
   "metadata": {},
   "outputs": [
    {
     "data": {
      "text/plain": [
       "'HOLA'"
      ]
     },
     "execution_count": 92,
     "metadata": {},
     "output_type": "execute_result"
    }
   ],
   "source": [
    "P5[4]"
   ]
  },
  {
   "cell_type": "markdown",
   "id": "1b51a960",
   "metadata": {},
   "source": [
    "##### PARTE 6.3 ANÁLISIS DE PARÁMETROS Y ARGUMENTOS\n"
   ]
  },
  {
   "cell_type": "code",
   "execution_count": 119,
   "id": "f4e8e090",
   "metadata": {},
   "outputs": [],
   "source": [
    "def SUMA1 (X,Y):\n",
    "    return X+Y"
   ]
  },
  {
   "cell_type": "code",
   "execution_count": 120,
   "id": "12d6e44a",
   "metadata": {},
   "outputs": [
    {
     "data": {
      "text/plain": [
       "105"
      ]
     },
     "execution_count": 120,
     "metadata": {},
     "output_type": "execute_result"
    }
   ],
   "source": [
    "VARIABLE = SUMA1(100,5)\n",
    "VARIABLE"
   ]
  },
  {
   "cell_type": "code",
   "execution_count": null,
   "id": "6ec28020",
   "metadata": {},
   "outputs": [],
   "source": [
    "# PARAMETROS DE LA FUNCION (X,Y) ---> SE UTILIZAN EN LA DIFINICION \n",
    "# ARGUMENTOS DE LA FUNCION (4,5) ----> SE UTILIZAN EN LA INVOCACION "
   ]
  },
  {
   "cell_type": "markdown",
   "id": "bd8f876f",
   "metadata": {},
   "source": [
    "#### PARÁMETROS QUE SE PUEDEN IGNORAR"
   ]
  },
  {
   "cell_type": "code",
   "execution_count": 142,
   "id": "85ed7b44",
   "metadata": {},
   "outputs": [],
   "source": [
    "def SUMA2 (X = None ,Y = None):\n",
    "    if X == None or Y == None:\n",
    "        print(\"FALTAN ARGUMENTOS\")\n",
    "        return None\n",
    "    else:\n",
    "        return X-Y\n",
    "    \n",
    "    "
   ]
  },
  {
   "cell_type": "code",
   "execution_count": 128,
   "id": "e9a18e2d",
   "metadata": {},
   "outputs": [
    {
     "data": {
      "text/plain": [
       "20"
      ]
     },
     "execution_count": 128,
     "metadata": {},
     "output_type": "execute_result"
    }
   ],
   "source": [
    "VARIABLE = SUMA2(4,5)\n",
    "VARIABLE"
   ]
  },
  {
   "cell_type": "code",
   "execution_count": 144,
   "id": "5b5b635d",
   "metadata": {},
   "outputs": [
    {
     "name": "stdout",
     "output_type": "stream",
     "text": [
      "FALTAN ARGUMENTOS\n"
     ]
    }
   ],
   "source": [
    "VARIABLE = SUMA2()\n",
    "VARIABLE"
   ]
  },
  {
   "cell_type": "markdown",
   "id": "e41bc8fb",
   "metadata": {},
   "source": [
    "#### PARTE 6.4: ARGUMENTOS POR VALOR Y POR REFERENCIA \n",
    "\n",
    "###### PASO POR VALOR ---> crear una copia de la variable dentro de la funcion (enteros, flotante, cadenas)\n",
    "###### PASO POR REFERENCIA ---> Modificar directamente la variable en la funcion (listas, diccionarios, conjuntos)"
   ]
  },
  {
   "cell_type": "markdown",
   "id": "7573cec4",
   "metadata": {},
   "source": [
    "##### PASO POR VALOR \n"
   ]
  },
  {
   "cell_type": "code",
   "execution_count": 147,
   "id": "75426c45",
   "metadata": {},
   "outputs": [
    {
     "name": "stdout",
     "output_type": "stream",
     "text": [
      "5\n"
     ]
    }
   ],
   "source": [
    "def SUMAR_1 (VAL):\n",
    "    VAL += 1\n",
    "    \n",
    "X = 5\n",
    "SUMAR_1(X)\n",
    "print(X)\n"
   ]
  },
  {
   "cell_type": "code",
   "execution_count": 149,
   "id": "c9c03a3d",
   "metadata": {},
   "outputs": [
    {
     "name": "stdout",
     "output_type": "stream",
     "text": [
      "6\n"
     ]
    }
   ],
   "source": [
    "# TRUCOS PARA EVITAR PASAR POR VALOR\n",
    "def SUMAR_1 (VAL):\n",
    "    VAL += 1\n",
    "    return VAL\n",
    "\n",
    "X = 5\n",
    "X = SUMAR_1(X)\n",
    "print(X)"
   ]
  },
  {
   "cell_type": "markdown",
   "id": "193b1be3",
   "metadata": {},
   "source": [
    "##### PASO POR REFERENCIA"
   ]
  },
  {
   "cell_type": "code",
   "execution_count": 153,
   "id": "2149e7d8",
   "metadata": {},
   "outputs": [
    {
     "data": {
      "text/plain": [
       "[1, 2, 3, 4, 5, 6, 7, 1]"
      ]
     },
     "execution_count": 153,
     "metadata": {},
     "output_type": "execute_result"
    }
   ],
   "source": [
    "def ADICIONAR_1 (L):\n",
    "    L.append(1)\n",
    "    \n",
    "LISTA = [1,2,3,4,5,6,7]\n",
    "ADICIONAR_1 (LISTA)\n",
    "LISTA"
   ]
  },
  {
   "cell_type": "code",
   "execution_count": 155,
   "id": "45f634ff",
   "metadata": {},
   "outputs": [],
   "source": [
    "# TRUCO PARA EVITAR PASAR POR REFERENCIA\n",
    "def ADICIONAR_1 (L):\n",
    "    L.append(1)\n",
    "    \n",
    "    ADICIONAR_1 (LISTA[:])\n",
    "    LISTA"
   ]
  },
  {
   "cell_type": "markdown",
   "id": "c8c862d2",
   "metadata": {},
   "source": [
    "#### PARTE 6.5 ARGUMENTOS INDETERMINADOS"
   ]
  },
  {
   "cell_type": "code",
   "execution_count": null,
   "id": "1cd08c88",
   "metadata": {},
   "outputs": [],
   "source": [
    "# parametros indeterminados: def FUNCION(1, 3.1416, \"HOLA\") , V1=1 , V2=301416 , V3=\"HOLA\"\n",
    "#                                          **ARGS                     **KWARGS\n",
    "#                                          POSICION                     NOMBRE"
   ]
  },
  {
   "cell_type": "markdown",
   "id": "9690407a",
   "metadata": {},
   "source": [
    "#### ARGUMENTOS INDETERMINADOS POR POSICION \n"
   ]
  },
  {
   "cell_type": "code",
   "execution_count": 5,
   "id": "08672e30",
   "metadata": {},
   "outputs": [],
   "source": [
    "def FUNCION_POS (*args): \n",
    "    for ARGUMENTO in args:\n",
    "        print(ARGUMENTO)"
   ]
  },
  {
   "cell_type": "code",
   "execution_count": 6,
   "id": "5151196a",
   "metadata": {},
   "outputs": [
    {
     "name": "stdout",
     "output_type": "stream",
     "text": [
      "1\n"
     ]
    }
   ],
   "source": [
    "FUNCION_POS(1)"
   ]
  },
  {
   "cell_type": "code",
   "execution_count": 10,
   "id": "be2439ba",
   "metadata": {},
   "outputs": [
    {
     "name": "stdout",
     "output_type": "stream",
     "text": [
      "1\n",
      "3.1416\n",
      "HOLA\n",
      "True\n",
      "False\n"
     ]
    }
   ],
   "source": [
    "FUNCION_POS (1, 3.1416, \"HOLA\" , True , \"False\")\n"
   ]
  },
  {
   "cell_type": "markdown",
   "id": "24586e85",
   "metadata": {},
   "source": [
    "#### ARGUMENTOS INDETERMINADOS POR NOMBRE"
   ]
  },
  {
   "cell_type": "code",
   "execution_count": 15,
   "id": "5555cccf",
   "metadata": {},
   "outputs": [],
   "source": [
    "def FUNCION_NOM (**kwargs):\n",
    "    for ARGUMENTO in kwargs:\n",
    "        print(ARGUMENTO,\"---\",kwargs[ARGUMENTO])"
   ]
  },
  {
   "cell_type": "code",
   "execution_count": 16,
   "id": "0eaf879a",
   "metadata": {},
   "outputs": [
    {
     "name": "stdout",
     "output_type": "stream",
     "text": [
      "V1 --- 1\n"
     ]
    }
   ],
   "source": [
    "FUNCION_NOM (V1 = 1)\n"
   ]
  },
  {
   "cell_type": "markdown",
   "id": "daa8b446",
   "metadata": {},
   "source": [
    "#### ARGUMENTOS INDETERMINADOS POR POSICION Y POR NOMBRE"
   ]
  },
  {
   "cell_type": "code",
   "execution_count": 18,
   "id": "dfc0defe",
   "metadata": {},
   "outputs": [],
   "source": [
    "def FUNCION_AMBOS (*args,**kwargs):\n",
    "    for ARGUMENTO in args:\n",
    "        print(ARGUMENTO)\n",
    "        for ARGUMENTO in kwargs:\n",
    "            print(ARGUMENTO,\"---\",kwargs[ARGUMENTO])"
   ]
  },
  {
   "cell_type": "code",
   "execution_count": 19,
   "id": "2a291c54",
   "metadata": {},
   "outputs": [
    {
     "name": "stdout",
     "output_type": "stream",
     "text": [
      "1\n",
      "V --- 2\n",
      "A --- 6\n",
      "V2 --- 8\n",
      "5\n",
      "V --- 2\n",
      "A --- 6\n",
      "V2 --- 8\n",
      "HOLA\n",
      "V --- 2\n",
      "A --- 6\n",
      "V2 --- 8\n"
     ]
    }
   ],
   "source": [
    "FUNCION_AMBOS (1, 5, \"HOLA\", V=2, A=6, V2= 8)"
   ]
  },
  {
   "cell_type": "code",
   "execution_count": 42,
   "id": "f5744461",
   "metadata": {},
   "outputs": [],
   "source": [
    "def FUNCION_AMBOS (*args,**kwargs):\n",
    "    SUMA = 0\n",
    "    for ARGUMENTO in args:\n",
    "        SUMA += ARGUMENTO\n",
    "    \n",
    "    for ARGUMENTO in kwargs:\n",
    "        SUMA += kwargs[ARGUMENTO]\n",
    "    \n",
    "    return SUMA"
   ]
  },
  {
   "cell_type": "code",
   "execution_count": 43,
   "id": "2143c520",
   "metadata": {},
   "outputs": [],
   "source": [
    "SUMA = FUNCION_AMBOS(1, 2, 3, 4, 5, 6, 7, V1=10, V2=15, V3=20, V4=50, V5=90, b1=20, n1=14, j1=9)"
   ]
  },
  {
   "cell_type": "code",
   "execution_count": 44,
   "id": "591858af",
   "metadata": {},
   "outputs": [
    {
     "data": {
      "text/plain": [
       "256"
      ]
     },
     "execution_count": 44,
     "metadata": {},
     "output_type": "execute_result"
    }
   ],
   "source": [
    "SUMA"
   ]
  },
  {
   "cell_type": "markdown",
   "id": "96d02a93",
   "metadata": {},
   "source": [
    "#### PARTE  6.6:  FUNCION RECURSIVAS"
   ]
  },
  {
   "cell_type": "code",
   "execution_count": 6,
   "id": "a40db4d3",
   "metadata": {},
   "outputs": [],
   "source": [
    "# ERROR DE FUNCION RECURSIVA\n",
    " def IMPRIMIR():\n",
    "     print(\"HOLA MUNDO\")\n",
    "     IMPRIMIR()"
   ]
  },
  {
   "cell_type": "code",
   "execution_count": 12,
   "id": "f44413a7",
   "metadata": {},
   "outputs": [],
   "source": [
    "# 7! = 2X2X3X4X5X6X7\n",
    "\n",
    "def FACTORIAL (NUM):\n",
    "    if NUM > 1:\n",
    "        NUM = NUM * FACTORIAL(NUM-1)\n",
    "    return NUM \n",
    "        "
   ]
  },
  {
   "cell_type": "code",
   "execution_count": 24,
   "id": "b5c6e8c6",
   "metadata": {},
   "outputs": [
    {
     "data": {
      "text/plain": [
       "120"
      ]
     },
     "execution_count": 24,
     "metadata": {},
     "output_type": "execute_result"
    }
   ],
   "source": [
    "FACTORIAL(5)"
   ]
  },
  {
   "cell_type": "code",
   "execution_count": 1,
   "id": "05188ab8",
   "metadata": {},
   "outputs": [],
   "source": [
    "# SUMATORIA (7) = 1 + 2 + 3 + 4 + 5 + 6 + 7\n",
    "def SUMATORIA (NUM):\n",
    "    if NUM > 1:\n",
    "        NUM = NUM + SUMATORIA(NUM-1)\n",
    "    return NUM"
   ]
  },
  {
   "cell_type": "code",
   "execution_count": 3,
   "id": "8e490671",
   "metadata": {},
   "outputs": [
    {
     "data": {
      "text/plain": [
       "1035"
      ]
     },
     "execution_count": 3,
     "metadata": {},
     "output_type": "execute_result"
    }
   ],
   "source": [
    "SUMATORIA(45)"
   ]
  },
  {
   "cell_type": "code",
   "execution_count": 34,
   "id": "91d9a57e",
   "metadata": {},
   "outputs": [],
   "source": [
    "# CADENA (7) =\"\" 1+2+3+4+5+6+7\"\"\n",
    "CADENA = \"\"\n",
    "def FUNCION_CADENA(NUM):\n",
    "    global CADENA\n",
    "    if NUM >= 1:\n",
    "        CADENA = str(NUM) + \"+\" + CADENA\n",
    "        FUNCION_CADENA(NUM-1)\n",
    "        return CADENA.strip(\"+\")"
   ]
  },
  {
   "cell_type": "code",
   "execution_count": 35,
   "id": "11ac883d",
   "metadata": {},
   "outputs": [
    {
     "data": {
      "text/plain": [
       "'1+2+3+4+5+6+7+8'"
      ]
     },
     "execution_count": 35,
     "metadata": {},
     "output_type": "execute_result"
    }
   ],
   "source": [
    "FUNCION_CADENA(8)"
   ]
  },
  {
   "cell_type": "code",
   "execution_count": 36,
   "id": "fc33e49f",
   "metadata": {},
   "outputs": [],
   "source": [
    "def FUNCION_CADENA(NUM):\n",
    "    global CADENA\n",
    "    if NUM >= 1:\n",
    "        CADENA = str(NUM) + \"+\" + CADENA\n",
    "        FUNCION_CADENA(NUM - 1)\n",
    "        return CADENA.strip(\"+\")"
   ]
  },
  {
   "cell_type": "code",
   "execution_count": 42,
   "id": "c4a6e534",
   "metadata": {},
   "outputs": [
    {
     "data": {
      "text/plain": [
       "'1+2+3+4+5+6'"
      ]
     },
     "execution_count": 42,
     "metadata": {},
     "output_type": "execute_result"
    }
   ],
   "source": [
    "CADENA = \"\"\n",
    "FUNCION_CADENA(6)\n"
   ]
  },
  {
   "cell_type": "markdown",
   "id": "f53923b7",
   "metadata": {},
   "source": [
    "#### PARTE 6.7: FUNCIONES INTEGRADAS"
   ]
  },
  {
   "cell_type": "code",
   "execution_count": 48,
   "id": "4939380d",
   "metadata": {},
   "outputs": [
    {
     "data": {
      "text/plain": [
       "19"
      ]
     },
     "execution_count": 48,
     "metadata": {},
     "output_type": "execute_result"
    }
   ],
   "source": [
    "# FUNCION int\n",
    "TEXTO = \"14\"\n",
    "int(TEXTO) + 5"
   ]
  },
  {
   "cell_type": "code",
   "execution_count": 49,
   "id": "93930c86",
   "metadata": {},
   "outputs": [
    {
     "data": {
      "text/plain": [
       "37.3"
      ]
     },
     "execution_count": 49,
     "metadata": {},
     "output_type": "execute_result"
    }
   ],
   "source": [
    "# FUNCION float\n",
    "TEXTO = \"14.5\"\n",
    "float (TEXTO) + 22.8"
   ]
  },
  {
   "cell_type": "code",
   "execution_count": 54,
   "id": "9ea8b273",
   "metadata": {},
   "outputs": [
    {
     "data": {
      "text/plain": [
       "'HOLA, TUVE 14AÑOS'"
      ]
     },
     "execution_count": 54,
     "metadata": {},
     "output_type": "execute_result"
    }
   ],
   "source": [
    "# FUNCION str\n",
    "NUM = 14\n",
    "\"HOLA, TUVE \" + str(NUM) + \"AÑOS\""
   ]
  },
  {
   "cell_type": "code",
   "execution_count": 59,
   "id": "2062d7fd",
   "metadata": {},
   "outputs": [
    {
     "data": {
      "text/plain": [
       "17"
      ]
     },
     "execution_count": 59,
     "metadata": {},
     "output_type": "execute_result"
    }
   ],
   "source": [
    "# FUNCION eval\n",
    "TEXTO = \"3**2+5+1+2\"\n",
    "eval(TEXTO)"
   ]
  },
  {
   "cell_type": "markdown",
   "id": "89570e01",
   "metadata": {},
   "source": [
    "#### PARTE 6.8: FUNCIONES LAMBDA"
   ]
  },
  {
   "cell_type": "code",
   "execution_count": 60,
   "id": "bd410781",
   "metadata": {},
   "outputs": [],
   "source": [
    "#SINTAXIS DE LA FUNCION LAMBDA\n",
    "#lambda ARGUMENTO : EXPRESIÓN"
   ]
  },
  {
   "cell_type": "code",
   "execution_count": 67,
   "id": "53b11c48",
   "metadata": {},
   "outputs": [
    {
     "data": {
      "text/plain": [
       "889"
      ]
     },
     "execution_count": 67,
     "metadata": {},
     "output_type": "execute_result"
    }
   ],
   "source": [
    "# INTENTO 1\n",
    "def SUMAR_1 (NUM):\n",
    "    VALOR = NUM + 100\n",
    "    return VALOR\n",
    "\n",
    "SUMAR_1(789)"
   ]
  },
  {
   "cell_type": "code",
   "execution_count": 68,
   "id": "bb70cac9",
   "metadata": {},
   "outputs": [
    {
     "data": {
      "text/plain": [
       "51"
      ]
     },
     "execution_count": 68,
     "metadata": {},
     "output_type": "execute_result"
    }
   ],
   "source": [
    "#INTENTO 1\n",
    "def SUMAR_1 (NUM):\n",
    "    return NUM + 1\n",
    "\n",
    "SUMAR_1(50)"
   ]
  },
  {
   "cell_type": "code",
   "execution_count": 2,
   "id": "008bbc63",
   "metadata": {},
   "outputs": [
    {
     "data": {
      "text/plain": [
       "45"
      ]
     },
     "execution_count": 2,
     "metadata": {},
     "output_type": "execute_result"
    }
   ],
   "source": [
    "#INTENTO 2\n",
    "def SUMAR_1 (NUM):\n",
    "    return NUM + 3\n",
    "SUMAR_1(42)"
   ]
  },
  {
   "cell_type": "code",
   "execution_count": 5,
   "id": "a257030f",
   "metadata": {},
   "outputs": [
    {
     "data": {
      "text/plain": [
       "75"
      ]
     },
     "execution_count": 5,
     "metadata": {},
     "output_type": "execute_result"
    }
   ],
   "source": [
    "# INTENTO 3  FUNCION CON LAMBDA\n",
    "def SUMAR_1 (NUM):        return NUM +30\n",
    "SUMAR_1(45)\n",
    "    "
   ]
  },
  {
   "cell_type": "code",
   "execution_count": 15,
   "id": "e6e6a7eb",
   "metadata": {},
   "outputs": [
    {
     "data": {
      "text/plain": [
       "120"
      ]
     },
     "execution_count": 15,
     "metadata": {},
     "output_type": "execute_result"
    }
   ],
   "source": [
    "SUMAR_1 = lambda NUM : NUM + 20\n",
    "SUMAR_1(100)"
   ]
  },
  {
   "cell_type": "markdown",
   "id": "fcdf336a",
   "metadata": {},
   "source": [
    "#### LAMBDA --------> NÚMERO"
   ]
  },
  {
   "cell_type": "code",
   "execution_count": 16,
   "id": "2f63a6f2",
   "metadata": {},
   "outputs": [
    {
     "data": {
      "text/plain": [
       "11"
      ]
     },
     "execution_count": 16,
     "metadata": {},
     "output_type": "execute_result"
    }
   ],
   "source": [
    "SUMAR_1 = lambda NUM : NUM + 1\n",
    "SUMAR_1(10)"
   ]
  },
  {
   "cell_type": "markdown",
   "id": "70352f3d",
   "metadata": {},
   "source": [
    "#### LAMBDA -----> BOOLEANO"
   ]
  },
  {
   "cell_type": "code",
   "execution_count": 23,
   "id": "85baf4c4",
   "metadata": {},
   "outputs": [
    {
     "data": {
      "text/plain": [
       "False"
      ]
     },
     "execution_count": 23,
     "metadata": {},
     "output_type": "execute_result"
    }
   ],
   "source": [
    "MAYOR_20 = lambda NUM : NUM>20\n",
    "MAYOR_20(16.5)"
   ]
  },
  {
   "cell_type": "markdown",
   "id": "f87b62d5",
   "metadata": {},
   "source": [
    "#### LAMBDA ----> LISTA"
   ]
  },
  {
   "cell_type": "code",
   "execution_count": 27,
   "id": "0ab7c262",
   "metadata": {},
   "outputs": [
    {
     "data": {
      "text/plain": [
       "[3, 4, 5, 6, 7]"
      ]
     },
     "execution_count": 27,
     "metadata": {},
     "output_type": "execute_result"
    }
   ],
   "source": [
    "CORTAR_LISTA = lambda LISTA : LISTA[2:7]\n",
    "CORTAR_LISTA([1,2,3,4,5,6,7,8,9])"
   ]
  },
  {
   "cell_type": "markdown",
   "id": "50767aa1",
   "metadata": {},
   "source": [
    "#### LAMBDA ------> CADENAS"
   ]
  },
  {
   "cell_type": "code",
   "execution_count": 31,
   "id": "f6ab622c",
   "metadata": {},
   "outputs": [
    {
     "data": {
      "text/plain": [
       "'HOLA MUNDO MARAVILLOSO'"
      ]
     },
     "execution_count": 31,
     "metadata": {},
     "output_type": "execute_result"
    }
   ],
   "source": [
    "MAYUSCULA = lambda TEXTO : TEXTO.upper()\n",
    "MAYUSCULA(\"hola mundo maravilloso\")"
   ]
  },
  {
   "cell_type": "markdown",
   "id": "3b732a57",
   "metadata": {},
   "source": [
    "#### LAMBDA ----> VARIOS PARÁMETROS"
   ]
  },
  {
   "cell_type": "code",
   "execution_count": 32,
   "id": "5b7fd5f8",
   "metadata": {},
   "outputs": [
    {
     "data": {
      "text/plain": [
       "6"
      ]
     },
     "execution_count": 32,
     "metadata": {},
     "output_type": "execute_result"
    }
   ],
   "source": [
    "SUMAR_VARIOS = lambda N1,N2,N3 : N1 + N2 + N3\n",
    "SUMAR_VARIOS(1,2,3)"
   ]
  },
  {
   "cell_type": "markdown",
   "id": "bd75b872",
   "metadata": {},
   "source": [
    "#### PARTE 6.9: FUNCION FILTER"
   ]
  },
  {
   "cell_type": "code",
   "execution_count": 33,
   "id": "0851e6c8",
   "metadata": {},
   "outputs": [],
   "source": [
    "#SINTAXIS DE LA FUNCION FILTER\n",
    "#  filter (CONDICION , OBJETO)"
   ]
  },
  {
   "cell_type": "code",
   "execution_count": 44,
   "id": "200a4d62",
   "metadata": {},
   "outputs": [
    {
     "name": "stdout",
     "output_type": "stream",
     "text": [
      "<filter object at 0x0000019D12349970>\n"
     ]
    },
    {
     "data": {
      "text/plain": [
       "[1, 2, 3]"
      ]
     },
     "execution_count": 44,
     "metadata": {},
     "output_type": "execute_result"
    }
   ],
   "source": [
    "LISTA = [1,2,3,4,5,6,7,8,9,10]\n",
    "#MÉTODO 1 DE FILTRADO\n",
    "def FILTRAR1 (NUM):\n",
    "    if NUM < 4:\n",
    "        return True\n",
    "    else:\n",
    "        return False\n",
    "filter (FILTRAR1 , LISTA)\n",
    "print(filter (FILTRAR1 , LISTA))\n",
    "list(filter (FILTRAR1 , LISTA))"
   ]
  },
  {
   "cell_type": "code",
   "execution_count": 49,
   "id": "6e9e4980",
   "metadata": {},
   "outputs": [
    {
     "data": {
      "text/plain": [
       "[1, 2, 3]"
      ]
     },
     "execution_count": 49,
     "metadata": {},
     "output_type": "execute_result"
    }
   ],
   "source": [
    "# MÉTODO 2 DE FILTRADO\n",
    "LISTA = [1,2,3,4,5,6,7,8,9,10]\n",
    "list (filter (lambda NUM : NUM < 4 , LISTA))\n"
   ]
  },
  {
   "cell_type": "markdown",
   "id": "a8e268ed",
   "metadata": {},
   "source": [
    "#### PARTE 6.10: FUNCION MAP"
   ]
  },
  {
   "cell_type": "code",
   "execution_count": 1,
   "id": "22ac4204",
   "metadata": {},
   "outputs": [],
   "source": [
    "#SINTAXIS DE LA FUNCION MAP\n",
    "# filter (FÓRMULA , OBJETO)\n"
   ]
  },
  {
   "cell_type": "code",
   "execution_count": 15,
   "id": "88ab112d",
   "metadata": {},
   "outputs": [
    {
     "name": "stdout",
     "output_type": "stream",
     "text": [
      "<map object at 0x00000254E0FBBB20>\n"
     ]
    },
    {
     "data": {
      "text/plain": [
       "[2, 4, 6, 8, 10, 12, 14, 16, 18]"
      ]
     },
     "execution_count": 15,
     "metadata": {},
     "output_type": "execute_result"
    }
   ],
   "source": [
    "LISTA = [1,2,3,4,5,6,7,8,9]\n",
    "\n",
    "# MÉTODO 1 DE FUNCION MAP\n",
    "def DUPLICAR (NUM):\n",
    "    return NUM * 2\n",
    "\n",
    "map(DUPLICAR , LISTA)\n",
    "print(map (DUPLICAR , LISTA))\n",
    "list(map (DUPLICAR , LISTA))\n",
    "    "
   ]
  },
  {
   "cell_type": "code",
   "execution_count": 19,
   "id": "e1dcaccc",
   "metadata": {},
   "outputs": [
    {
     "data": {
      "text/plain": [
       "[1, 8, 27, 64, 125, 216, 343, 512, 729]"
      ]
     },
     "execution_count": 19,
     "metadata": {},
     "output_type": "execute_result"
    }
   ],
   "source": [
    "#MÉTODO 2 DE FUNCION MAP\n",
    "list(map (lambda NUM : NUM ** 3 , LISTA))"
   ]
  },
  {
   "cell_type": "markdown",
   "id": "96476483",
   "metadata": {},
   "source": [
    "#### 6.11: FUNCIONES YIELD - NEXT - ITER"
   ]
  },
  {
   "cell_type": "markdown",
   "id": "9cbe5a28",
   "metadata": {},
   "source": [
    "##### YIELD\n",
    "\n",
    "* ES UNA VIGILANTE DE LAS EJECUCIONES DE UNA FUNCION"
   ]
  },
  {
   "cell_type": "code",
   "execution_count": 20,
   "id": "4e4a2a8b",
   "metadata": {},
   "outputs": [],
   "source": [
    "def FUNCION_SIN_YIELD (NUM):\n",
    "    for X in range(NUM):\n",
    "        print(X)"
   ]
  },
  {
   "cell_type": "code",
   "execution_count": 22,
   "id": "43aee440",
   "metadata": {},
   "outputs": [
    {
     "name": "stdout",
     "output_type": "stream",
     "text": [
      "0\n",
      "1\n",
      "2\n",
      "3\n",
      "4\n",
      "5\n",
      "6\n",
      "7\n",
      "8\n",
      "9\n",
      "10\n"
     ]
    }
   ],
   "source": [
    "FUNCION_SIN_YIELD(11)"
   ]
  },
  {
   "cell_type": "code",
   "execution_count": 49,
   "id": "04e963e9",
   "metadata": {},
   "outputs": [],
   "source": [
    "def FUNCION_CON_YIELD (NUM):\n",
    "    for X in range(NUM):\n",
    "        if X == 5:\n",
    "            yield \"ERROR\"\n",
    "        else:\n",
    "            yield X\n",
    "        \n",
    "        "
   ]
  },
  {
   "cell_type": "code",
   "execution_count": 50,
   "id": "b6be9194",
   "metadata": {},
   "outputs": [
    {
     "name": "stdout",
     "output_type": "stream",
     "text": [
      "<generator object FUNCION_CON_YIELD at 0x00000180827D3580>\n"
     ]
    },
    {
     "data": {
      "text/plain": [
       "[0, 1, 2, 3, 4, 'ERROR', 6, 7, 8, 9]"
      ]
     },
     "execution_count": 50,
     "metadata": {},
     "output_type": "execute_result"
    }
   ],
   "source": [
    "FUNCION_CON_YIELD (10)\n",
    "print(FUNCION_CON_YIELD (10))\n",
    "list(FUNCION_CON_YIELD (10))"
   ]
  },
  {
   "cell_type": "code",
   "execution_count": 47,
   "id": "745cdb9d",
   "metadata": {},
   "outputs": [
    {
     "data": {
      "text/plain": [
       "2"
      ]
     },
     "execution_count": 47,
     "metadata": {},
     "output_type": "execute_result"
    }
   ],
   "source": [
    "EJECUCIONES = list(FUNCION_CON_YIELD (10))\n",
    "EJECUCIONES [2]"
   ]
  },
  {
   "cell_type": "markdown",
   "id": "7a344334",
   "metadata": {},
   "source": [
    "#### NEXT\n",
    "* REPARTIDOR DE LAS EJECUCIONES"
   ]
  },
  {
   "cell_type": "code",
   "execution_count": 85,
   "id": "da5ab944",
   "metadata": {},
   "outputs": [],
   "source": [
    "EJECUCIONES = FUNCION_CON_YIELD (10)"
   ]
  },
  {
   "cell_type": "code",
   "execution_count": 88,
   "id": "bc2d15fd",
   "metadata": {},
   "outputs": [
    {
     "data": {
      "text/plain": [
       "2"
      ]
     },
     "execution_count": 88,
     "metadata": {},
     "output_type": "execute_result"
    }
   ],
   "source": [
    "next(EJECUCIONES)"
   ]
  },
  {
   "cell_type": "markdown",
   "id": "5560cb74",
   "metadata": {},
   "source": [
    "#### ITER\n",
    " * CONGIGURACION PARA PODER ACCEDER DE 1 EN 1"
   ]
  },
  {
   "cell_type": "code",
   "execution_count": 101,
   "id": "03c109fa",
   "metadata": {},
   "outputs": [],
   "source": [
    "LISTA = [1,2,3,4,5,6,7,8,9]\n",
    "LISTA_ITERABLE = iter(LISTA)"
   ]
  },
  {
   "cell_type": "code",
   "execution_count": 102,
   "id": "003bb63b",
   "metadata": {},
   "outputs": [
    {
     "data": {
      "text/plain": [
       "1"
      ]
     },
     "execution_count": 102,
     "metadata": {},
     "output_type": "execute_result"
    }
   ],
   "source": [
    "next(LISTA_ITERABLE)"
   ]
  },
  {
   "cell_type": "code",
   "execution_count": 127,
   "id": "fa7d62bd",
   "metadata": {},
   "outputs": [],
   "source": [
    "CADENA = \"PYTHO2021\"\n",
    "CADENA_ITERABLE = iter(CADENA)"
   ]
  },
  {
   "cell_type": "code",
   "execution_count": 128,
   "id": "86675ce1",
   "metadata": {},
   "outputs": [
    {
     "data": {
      "text/plain": [
       "'P'"
      ]
     },
     "execution_count": 128,
     "metadata": {},
     "output_type": "execute_result"
    }
   ],
   "source": [
    "next(CADENA_ITERABLE)"
   ]
  },
  {
   "cell_type": "code",
   "execution_count": null,
   "id": "6eabab26",
   "metadata": {},
   "outputs": [],
   "source": []
  },
  {
   "cell_type": "code",
   "execution_count": null,
   "id": "cab47211",
   "metadata": {},
   "outputs": [],
   "source": []
  },
  {
   "cell_type": "code",
   "execution_count": null,
   "id": "1af73df1",
   "metadata": {},
   "outputs": [],
   "source": []
  },
  {
   "cell_type": "code",
   "execution_count": null,
   "id": "ba99845a",
   "metadata": {},
   "outputs": [],
   "source": []
  },
  {
   "cell_type": "code",
   "execution_count": null,
   "id": "984cb0e6",
   "metadata": {},
   "outputs": [],
   "source": []
  },
  {
   "cell_type": "code",
   "execution_count": null,
   "id": "f68d9c63",
   "metadata": {},
   "outputs": [],
   "source": []
  },
  {
   "cell_type": "code",
   "execution_count": null,
   "id": "b9457264",
   "metadata": {},
   "outputs": [],
   "source": []
  },
  {
   "cell_type": "code",
   "execution_count": null,
   "id": "a5f886d1",
   "metadata": {},
   "outputs": [],
   "source": []
  }
 ],
 "metadata": {
  "kernelspec": {
   "display_name": "Python 3 (ipykernel)",
   "language": "python",
   "name": "python3"
  },
  "language_info": {
   "codemirror_mode": {
    "name": "ipython",
    "version": 3
   },
   "file_extension": ".py",
   "mimetype": "text/x-python",
   "name": "python",
   "nbconvert_exporter": "python",
   "pygments_lexer": "ipython3",
   "version": "3.9.7"
  }
 },
 "nbformat": 4,
 "nbformat_minor": 5
}
