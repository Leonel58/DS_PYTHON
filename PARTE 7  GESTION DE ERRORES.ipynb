{
 "cells": [
  {
   "cell_type": "markdown",
   "id": "2c11eab7",
   "metadata": {},
   "source": [
    "### PARTE 7: GESTIÓN DE ERRORES\n",
    "\n",
    "### .\n",
    "\n",
    " * BLOQUE TRY - EXCEPT - ELSE - FINALLY\n",
    " * BLOQUE TRY -----> EL BLOQUE QUE SE EJECUTA CON CUIDADO\n",
    " * EXCEPT ---------> EL BLOQUE QUE SE VA A EJEVUTAR CUANDO FALLE EL LOQUE TRY\n",
    " * FINALY ---------> SIEMPRE SE VA EJECUTAR"
   ]
  },
  {
   "cell_type": "code",
   "execution_count": 1,
   "id": "9de69003",
   "metadata": {},
   "outputs": [
    {
     "name": "stdout",
     "output_type": "stream",
     "text": [
      "EL BLOQUE TRY HA FALLADO\n"
     ]
    }
   ],
   "source": [
    "try:\n",
    "    VARIABLE = 1/0\n",
    "    print(VARIABLE)\n",
    "except:\n",
    "    print(\"EL BLOQUE TRY HA FALLADO\")"
   ]
  },
  {
   "cell_type": "code",
   "execution_count": 9,
   "id": "fa605ab7",
   "metadata": {},
   "outputs": [
    {
     "name": "stdout",
     "output_type": "stream",
     "text": [
      "EL BLOQUE TRY HA FALLADO\n"
     ]
    }
   ],
   "source": [
    "try:\n",
    "    VARIABLE = 1/0\n",
    "    print(VARIABLE)\n",
    "except:\n",
    "    print(\"EL BLOQUE TRY HA FALLADO\")\n",
    "    "
   ]
  },
  {
   "cell_type": "code",
   "execution_count": 30,
   "id": "dc994766",
   "metadata": {},
   "outputs": [
    {
     "name": "stdout",
     "output_type": "stream",
     "text": [
      "INGRESE UN VALOR:0.1\n",
      "EL BLOQUE TRY HA FALLADO\n"
     ]
    }
   ],
   "source": [
    "try:\n",
    "    VARIABLE = int(input(\"INGRESE UN VALOR:\"))\n",
    "    print(2/VARIABLE)\n",
    "except:\n",
    "    print(\"EL BLOQUE TRY HA FALLADO\")"
   ]
  },
  {
   "cell_type": "code",
   "execution_count": 18,
   "id": "8f248045",
   "metadata": {},
   "outputs": [
    {
     "name": "stdout",
     "output_type": "stream",
     "text": [
      "INGRESE UN VALOR:0\n",
      "EL BLOQUE HA FALLADO\n",
      "FINALIZÓ UNA EJECUCION\n",
      "INGRESE UN VALOR:0\n",
      "EL BLOQUE HA FALLADO\n",
      "FINALIZÓ UNA EJECUCION\n",
      "INGRESE UN VALOR:0\n",
      "EL BLOQUE HA FALLADO\n",
      "FINALIZÓ UNA EJECUCION\n",
      "INGRESE UN VALOR:0\n",
      "EL BLOQUE HA FALLADO\n",
      "FINALIZÓ UNA EJECUCION\n",
      "INGRESE UN VALOR:0\n",
      "EL BLOQUE HA FALLADO\n",
      "FINALIZÓ UNA EJECUCION\n",
      "INGRESE UN VALOR:0\n",
      "EL BLOQUE HA FALLADO\n",
      "FINALIZÓ UNA EJECUCION\n",
      "INGRESE UN VALOR:0\n",
      "EL BLOQUE HA FALLADO\n",
      "FINALIZÓ UNA EJECUCION\n",
      "INGRESE UN VALOR:0\n",
      "EL BLOQUE HA FALLADO\n",
      "FINALIZÓ UNA EJECUCION\n",
      "INGRESE UN VALOR:0\n",
      "EL BLOQUE HA FALLADO\n",
      "FINALIZÓ UNA EJECUCION\n",
      "INGRESE UN VALOR:0\n",
      "EL BLOQUE HA FALLADO\n",
      "FINALIZÓ UNA EJECUCION\n",
      "INGRESE UN VALOR:0\n",
      "EL BLOQUE HA FALLADO\n",
      "FINALIZÓ UNA EJECUCION\n",
      "INGRESE UN VALOR:0\n",
      "EL BLOQUE HA FALLADO\n",
      "FINALIZÓ UNA EJECUCION\n",
      "INGRESE UN VALOR:0\n",
      "EL BLOQUE HA FALLADO\n",
      "FINALIZÓ UNA EJECUCION\n",
      "INGRESE UN VALOR:0\n",
      "EL BLOQUE HA FALLADO\n",
      "FINALIZÓ UNA EJECUCION\n",
      "INGRESE UN VALOR:5\n",
      "0.2\n",
      "EL BLOQUE TRY NO HA FALLADO\n",
      "FINALIZÓ UNA EJECUCION\n"
     ]
    }
   ],
   "source": [
    "while (True):\n",
    "    try:\n",
    "        VARIABLE = int(input(\"INGRESE UN VALOR:\"))\n",
    "        print(1/VARIABLE)\n",
    "    except:\n",
    "        print(\"EL BLOQUE HA FALLADO\")\n",
    "    else:\n",
    "            print(\"EL BLOQUE TRY NO HA FALLADO\")\n",
    "            break  #OBLIGA A PYTHON A QUE TODO EL BLOQUE TRY SE EJECUTE CORRECTAMENTE\n",
    "    finally:\n",
    "        print(\"FINALIZÓ UNA EJECUCION\")\n",
    "        \n",
    "\n",
    "            "
   ]
  },
  {
   "cell_type": "markdown",
   "id": "c90b4a05",
   "metadata": {},
   "source": [
    "#### 7.2: EXCEPCIONES MÚLTIPLES"
   ]
  },
  {
   "cell_type": "code",
   "execution_count": 21,
   "id": "6f266f52",
   "metadata": {},
   "outputs": [
    {
     "name": "stdout",
     "output_type": "stream",
     "text": [
      "INGRESE UN VALOR:0\n",
      "ZeroDivisionError\n",
      "INGRESE UN VALOR:0\n",
      "ZeroDivisionError\n",
      "INGRESE UN VALOR:0\n",
      "ZeroDivisionError\n",
      "INGRESE UN VALOR:8\n",
      "0.125\n"
     ]
    }
   ],
   "source": [
    "while(True):\n",
    "    try:\n",
    "        VARIABLE = int(input(\"INGRESE UN VALOR:\"))\n",
    "        print(1/VARIABLE)\n",
    "        break\n",
    "    except Exception as Error:\n",
    "        print(type(Error).__name__)"
   ]
  },
  {
   "cell_type": "code",
   "execution_count": 29,
   "id": "f12ad4d5",
   "metadata": {},
   "outputs": [
    {
     "name": "stdout",
     "output_type": "stream",
     "text": [
      "INGRESE UN VALOR0\n",
      "Ha ocurrido un error de tipo 'ZeroDivisionError'\n",
      "Finalizó la ejecucion\n",
      "INGRESE UN VALOR0\n",
      "Ha ocurrido un error de tipo 'ZeroDivisionError'\n",
      "Finalizó la ejecucion\n",
      "INGRESE UN VALOR85\n",
      "0.011764705882352941\n",
      "el bloque try no ha fallado\n",
      "Finalizó la ejecucion\n"
     ]
    }
   ],
   "source": [
    "while(True):\n",
    "    try:\n",
    "        VARIABLE = int(input(\"INGRESE UN VALOR\"))\n",
    "        print(1/VARIABLE)\n",
    "    except ZeroDivisionError:\n",
    "        print(\"Ha ocurrido un error de tipo 'ZeroDivisionError'\")\n",
    "    except ValueError:\n",
    "        print(\"Ha ocurrido un error de tipo 'ValueError'\")\n",
    "    except Exception as Error:\n",
    "        print(type(Error).__name__)\n",
    "    else:\n",
    "        print(\"el bloque try no ha fallado\")\n",
    "        break\n",
    "    finally:\n",
    "            print(\"Finalizó la ejecucion\")"
   ]
  },
  {
   "cell_type": "markdown",
   "id": "d5f19a95",
   "metadata": {},
   "source": [
    "#### PARTE 7.3: FUNCION RAISE"
   ]
  },
  {
   "cell_type": "code",
   "execution_count": null,
   "id": "4a35982b",
   "metadata": {},
   "outputs": [
    {
     "name": "stdout",
     "output_type": "stream",
     "text": [
      "INGRESE UN VALOR: \n",
      "Ha ocurrido un error de tipo 'ValueError'\n",
      "Finalizó una ejecucion\n"
     ]
    }
   ],
   "source": [
    "while(True):\n",
    "    try:\n",
    "        VARIABLE = int(input(\"INGRESE UN VALOR: \"))\n",
    "        \n",
    "        if VARIABLE == 10:\n",
    "            raise ZeroDivisionError\n",
    "            if VARIABLE == 20:\n",
    "                raise ValueError\n",
    "            \n",
    "            print(1/VARIABLE)\n",
    "    except ZeroDivisionError:\n",
    "        print(\"Ha ocurrido un error de tipo 'ZeroDivisionError'\")\n",
    "    except ValueError:\n",
    "        print(\"Ha ocurrido un error de tipo 'ValueError'\")\n",
    "    except Exception as Error:\n",
    "        print(type(Error).__name__)\n",
    "    else:\n",
    "        print(\"El bloque try no ha finalizado\")\n",
    "        break\n",
    "    finally:\n",
    "        print(\"Finalizó una ejecucion\")"
   ]
  },
  {
   "cell_type": "code",
   "execution_count": null,
   "id": "ff82d25a",
   "metadata": {},
   "outputs": [],
   "source": []
  },
  {
   "cell_type": "code",
   "execution_count": null,
   "id": "2b65e4b7",
   "metadata": {},
   "outputs": [],
   "source": []
  },
  {
   "cell_type": "code",
   "execution_count": null,
   "id": "20476f4e",
   "metadata": {},
   "outputs": [],
   "source": []
  },
  {
   "cell_type": "code",
   "execution_count": null,
   "id": "fa7d898f",
   "metadata": {},
   "outputs": [],
   "source": []
  },
  {
   "cell_type": "code",
   "execution_count": null,
   "id": "87321418",
   "metadata": {},
   "outputs": [],
   "source": []
  },
  {
   "cell_type": "code",
   "execution_count": null,
   "id": "988c1de2",
   "metadata": {},
   "outputs": [],
   "source": []
  },
  {
   "cell_type": "code",
   "execution_count": null,
   "id": "a4169242",
   "metadata": {},
   "outputs": [],
   "source": []
  },
  {
   "cell_type": "code",
   "execution_count": null,
   "id": "9a9f5336",
   "metadata": {},
   "outputs": [],
   "source": []
  },
  {
   "cell_type": "code",
   "execution_count": null,
   "id": "fdc44e05",
   "metadata": {},
   "outputs": [],
   "source": []
  }
 ],
 "metadata": {
  "kernelspec": {
   "display_name": "Python 3 (ipykernel)",
   "language": "python",
   "name": "python3"
  },
  "language_info": {
   "codemirror_mode": {
    "name": "ipython",
    "version": 3
   },
   "file_extension": ".py",
   "mimetype": "text/x-python",
   "name": "python",
   "nbconvert_exporter": "python",
   "pygments_lexer": "ipython3",
   "version": "3.9.7"
  }
 },
 "nbformat": 4,
 "nbformat_minor": 5
}
