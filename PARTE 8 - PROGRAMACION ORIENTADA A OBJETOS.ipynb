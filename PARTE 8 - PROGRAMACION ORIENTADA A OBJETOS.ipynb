{
 "cells": [
  {
   "cell_type": "markdown",
   "id": "e8692363",
   "metadata": {},
   "source": [
    "### 8.2:     CONTEXTO DE PROGRAMACION ESTRUCTURADA VS PROGRAMACION ORIENTADA A OBJETOS"
   ]
  },
  {
   "cell_type": "code",
   "execution_count": 4,
   "id": "8ebbdc3a",
   "metadata": {},
   "outputs": [],
   "source": [
    "DATOS = [\n",
    "    {\"NOMBRE\":\"JUAN\" , \"APELLIDO\":\"ALAVEZ\" , \"EDAD\":50},\n",
    "    {\"NOMBRE\":\"ROBERT\" , \"APELLIDO\":\"SANCHEZ\" , \"EDAD\":20},\n",
    "    {\"NOMBRE\":\"ALMA\" , \"APELLIDO\":\"SUAREZ\" , \"EDAD\":38},\n",
    "    {\"NOMBRE\":\"ROMAN\" , \"APELLIDO\":\"PAREDES\" , \"EDAD\":33},\n",
    "\n",
    "]"
   ]
  },
  {
   "cell_type": "code",
   "execution_count": 19,
   "id": "6c4a7d98",
   "metadata": {},
   "outputs": [
    {
     "data": {
      "text/plain": [
       "'SANCHEZ'"
      ]
     },
     "execution_count": 19,
     "metadata": {},
     "output_type": "execute_result"
    }
   ],
   "source": [
    "DATOS[1][\"APELLIDO\"]"
   ]
  },
  {
   "cell_type": "markdown",
   "id": "6485110f",
   "metadata": {},
   "source": [
    "#### LISTAR NOMBRE DE \"DATOS\""
   ]
  },
  {
   "cell_type": "code",
   "execution_count": 56,
   "id": "2780024e",
   "metadata": {},
   "outputs": [
    {
     "name": "stdout",
     "output_type": "stream",
     "text": [
      "JUAN\n",
      "ROBERT\n",
      "ALMA\n",
      "ROMAN\n"
     ]
    }
   ],
   "source": [
    "def LISTAR(LISTA):\n",
    "    for D in LISTA:\n",
    "        print(D[\"NOMBRE\"])\n",
    "\n",
    "LISTAR(DATOS)"
   ]
  },
  {
   "cell_type": "markdown",
   "id": "574da566",
   "metadata": {},
   "source": [
    "#### BUSCAR NOMBRES EN \"DATOS\""
   ]
  },
  {
   "cell_type": "code",
   "execution_count": 25,
   "id": "c7ce3f5c",
   "metadata": {},
   "outputs": [],
   "source": [
    "def BUSCAR(NOMBRE):\n",
    "    global DATOS\n",
    "    \n",
    "    for D in DATOS:\n",
    "        if D[\"NOMBRE\"] == NOMBRE:\n",
    "            print(\"sí se encuentra en la lista\")\n",
    "            return\n",
    "        \n",
    "        print(\"No se encuentra en la lista\")\n",
    "    \n",
    "    "
   ]
  },
  {
   "cell_type": "code",
   "execution_count": 36,
   "id": "dee009ca",
   "metadata": {},
   "outputs": [
    {
     "name": "stdout",
     "output_type": "stream",
     "text": [
      "sí se encuentra en la lista\n"
     ]
    }
   ],
   "source": [
    "BUSCAR(\"JUAN\")"
   ]
  },
  {
   "cell_type": "code",
   "execution_count": 38,
   "id": "1ef613fc",
   "metadata": {},
   "outputs": [
    {
     "name": "stdout",
     "output_type": "stream",
     "text": [
      "No se encuentra en la lista\n",
      "No se encuentra en la lista\n",
      "No se encuentra en la lista\n",
      "sí se encuentra en la lista\n"
     ]
    }
   ],
   "source": [
    "BUSCAR(\"ROMAN\")"
   ]
  },
  {
   "cell_type": "markdown",
   "id": "45c24da2",
   "metadata": {},
   "source": [
    "#### ELIMINAR NOMBRES EN DATOS"
   ]
  },
  {
   "cell_type": "code",
   "execution_count": 53,
   "id": "1a973639",
   "metadata": {},
   "outputs": [],
   "source": [
    "def ELIMINAR(NOMBRE):\n",
    "    global DATOS\n",
    "    \n",
    "    for INDICE, VALOR in enumerate(DATOS):\n",
    "        if VALOR == NOMBRE:\n",
    "            print(\"Sí se eliminó de la lista\")\n",
    "            DATOS.pop(INDICE)\n",
    "            return\n",
    "    print(\"No se encuentra en la lista\")\n"
   ]
  },
  {
   "cell_type": "code",
   "execution_count": 54,
   "id": "5f8b7c40",
   "metadata": {},
   "outputs": [
    {
     "name": "stdout",
     "output_type": "stream",
     "text": [
      "No se encuentra en la lista\n"
     ]
    }
   ],
   "source": [
    "ELIMINAR(\"MANUEL\")"
   ]
  },
  {
   "cell_type": "code",
   "execution_count": 57,
   "id": "95b24895",
   "metadata": {},
   "outputs": [
    {
     "name": "stdout",
     "output_type": "stream",
     "text": [
      "JUAN\n",
      "ROBERT\n",
      "ALMA\n",
      "ROMAN\n"
     ]
    }
   ],
   "source": [
    "LISTAR(DATOS)"
   ]
  },
  {
   "cell_type": "code",
   "execution_count": 58,
   "id": "f5596935",
   "metadata": {},
   "outputs": [
    {
     "name": "stdout",
     "output_type": "stream",
     "text": [
      "No se encuentra en la lista\n"
     ]
    }
   ],
   "source": [
    "ELIMINAR(\"JUAN\")"
   ]
  },
  {
   "cell_type": "code",
   "execution_count": null,
   "id": "f8af5720",
   "metadata": {},
   "outputs": [],
   "source": []
  },
  {
   "cell_type": "code",
   "execution_count": null,
   "id": "cf47a8ec",
   "metadata": {},
   "outputs": [],
   "source": []
  },
  {
   "cell_type": "code",
   "execution_count": null,
   "id": "b69b5132",
   "metadata": {},
   "outputs": [],
   "source": []
  },
  {
   "cell_type": "code",
   "execution_count": null,
   "id": "6387c958",
   "metadata": {},
   "outputs": [],
   "source": []
  },
  {
   "cell_type": "code",
   "execution_count": null,
   "id": "eae51359",
   "metadata": {},
   "outputs": [],
   "source": []
  }
 ],
 "metadata": {
  "kernelspec": {
   "display_name": "Python 3 (ipykernel)",
   "language": "python",
   "name": "python3"
  },
  "language_info": {
   "codemirror_mode": {
    "name": "ipython",
    "version": 3
   },
   "file_extension": ".py",
   "mimetype": "text/x-python",
   "name": "python",
   "nbconvert_exporter": "python",
   "pygments_lexer": "ipython3",
   "version": "3.9.7"
  }
 },
 "nbformat": 4,
 "nbformat_minor": 5
}
