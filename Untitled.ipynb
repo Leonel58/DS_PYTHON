{
 "cells": [
  {
   "cell_type": "markdown",
   "id": "004a459b",
   "metadata": {},
   "source": [
    "#### ANALISIS DE PARAMETROS ARGUMENTOS PARTE 6"
   ]
  },
  {
   "cell_type": "code",
   "execution_count": 1,
   "id": "7e3e409f",
   "metadata": {},
   "outputs": [],
   "source": [
    "def SUMA (X,Y):\n",
    "    return X+Y"
   ]
  },
  {
   "cell_type": "code",
   "execution_count": 2,
   "id": "85116c4e",
   "metadata": {},
   "outputs": [
    {
     "data": {
      "text/plain": [
       "9"
      ]
     },
     "execution_count": 2,
     "metadata": {},
     "output_type": "execute_result"
    }
   ],
   "source": [
    "VARIABLE = SUMA(4,5)\n",
    "VARIABLE\n"
   ]
  },
  {
   "cell_type": "code",
   "execution_count": null,
   "id": "267cc94a",
   "metadata": {},
   "outputs": [],
   "source": [
    "# PARAMETROS DE LA FUNCION (X, Y) ----> se utilizan en la definicion\n",
    "# ARGUMENTOS DE LA FUNCION (4,5) -----> SE UTILIZA EN LA INVOCACION \n",
    "\n"
   ]
  },
  {
   "cell_type": "markdown",
   "id": "52c9f971",
   "metadata": {},
   "source": [
    "#### ARGUMENTOS QUE SE PUEDEN  IGNORAR"
   ]
  },
  {
   "cell_type": "code",
   "execution_count": null,
   "id": "bac98eb9",
   "metadata": {},
   "outputs": [],
   "source": []
  },
  {
   "cell_type": "code",
   "execution_count": null,
   "id": "1efedd60",
   "metadata": {},
   "outputs": [],
   "source": []
  },
  {
   "cell_type": "code",
   "execution_count": null,
   "id": "35922eef",
   "metadata": {},
   "outputs": [],
   "source": []
  },
  {
   "cell_type": "code",
   "execution_count": null,
   "id": "0c06a479",
   "metadata": {},
   "outputs": [],
   "source": []
  }
 ],
 "metadata": {
  "kernelspec": {
   "display_name": "Python 3 (ipykernel)",
   "language": "python",
   "name": "python3"
  },
  "language_info": {
   "codemirror_mode": {
    "name": "ipython",
    "version": 3
   },
   "file_extension": ".py",
   "mimetype": "text/x-python",
   "name": "python",
   "nbconvert_exporter": "python",
   "pygments_lexer": "ipython3",
   "version": "3.9.7"
  }
 },
 "nbformat": 4,
 "nbformat_minor": 5
}
